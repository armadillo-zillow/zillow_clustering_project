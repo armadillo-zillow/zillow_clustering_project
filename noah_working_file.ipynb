{
 "cells": [
  {
   "cell_type": "code",
   "execution_count": 6,
   "metadata": {},
   "outputs": [],
   "source": [
    "import pandas as pd\n",
    "import numpy as np\n",
    "\n",
    "import wrangle_zillow\n",
    "\n",
    "import seaborn as sns\n",
    "import matplotlib.pyplot as plt\n",
    "\n",
    "\n",
    "\n",
    "from scipy.stats import zscore, iqr, percentileofscore, scoreatpercentile"
   ]
  },
  {
   "cell_type": "code",
   "execution_count": 166,
   "metadata": {},
   "outputs": [],
   "source": [
    "df = wrangle_zillow.get_zillow_data()"
   ]
  },
  {
   "cell_type": "code",
   "execution_count": 8,
   "metadata": {},
   "outputs": [],
   "source": [
    "nulls_by_col = wrangle_zillow.nulls_by_col(df)"
   ]
  },
  {
   "cell_type": "code",
   "execution_count": 24,
   "metadata": {},
   "outputs": [
    {
     "data": {
      "text/plain": [
       "46606"
      ]
     },
     "execution_count": 24,
     "metadata": {},
     "output_type": "execute_result"
    }
   ],
   "source": [
    "df.regionidneighborhood.isnull().sum()"
   ]
  },
  {
   "cell_type": "code",
   "execution_count": 165,
   "metadata": {},
   "outputs": [
    {
     "data": {
      "text/plain": [
       "Index(['id', 'parcelid', 'airconditioningtypeid', 'architecturalstyletypeid',\n",
       "       'basementsqft', 'bathroomcnt', 'bedroomcnt', 'buildingclasstypeid',\n",
       "       'buildingqualitytypeid', 'calculatedbathnbr', 'decktypeid',\n",
       "       'finishedfloor1squarefeet', 'calculatedfinishedsquarefeet',\n",
       "       'finishedsquarefeet12', 'finishedsquarefeet13', 'finishedsquarefeet15',\n",
       "       'finishedsquarefeet50', 'finishedsquarefeet6', 'fips', 'fireplacecnt',\n",
       "       'fullbathcnt', 'garagecarcnt', 'garagetotalsqft', 'hashottuborspa',\n",
       "       'heatingorsystemtypeid', 'latitude', 'longitude', 'lotsizesquarefeet',\n",
       "       'poolcnt', 'poolsizesum', 'pooltypeid10', 'pooltypeid2', 'pooltypeid7',\n",
       "       'propertycountylandusecode', 'propertylandusetypeid',\n",
       "       'propertyzoningdesc', 'rawcensustractandblock', 'regionidcity',\n",
       "       'regionidcounty', 'regionidneighborhood', 'regionidzip', 'roomcnt',\n",
       "       'storytypeid', 'threequarterbathnbr', 'typeconstructiontypeid',\n",
       "       'unitcnt', 'yardbuildingsqft17', 'yardbuildingsqft26', 'yearbuilt',\n",
       "       'numberofstories', 'fireplaceflag', 'structuretaxvaluedollarcnt',\n",
       "       'taxvaluedollarcnt', 'assessmentyear', 'landtaxvaluedollarcnt',\n",
       "       'taxamount', 'taxdelinquencyflag', 'taxdelinquencyyear',\n",
       "       'censustractandblock', 'logerror', 'transactiondate',\n",
       "       'airconditioningdesc', 'architecturalstyledesc', 'buildingclassdesc',\n",
       "       'heatingorsystemdesc', 'propertylandusedesc', 'storydesc',\n",
       "       'typeconstructiondesc'],\n",
       "      dtype='object')"
      ]
     },
     "execution_count": 165,
     "metadata": {},
     "output_type": "execute_result"
    }
   ],
   "source": [
    "df.columns"
   ]
  },
  {
   "cell_type": "code",
   "execution_count": 29,
   "metadata": {},
   "outputs": [],
   "source": [
    "df.taxvaluedollarcnt.dropna(inplace=True)"
   ]
  },
  {
   "cell_type": "code",
   "execution_count": null,
   "metadata": {},
   "outputs": [],
   "source": []
  },
  {
   "cell_type": "code",
   "execution_count": 11,
   "metadata": {},
   "outputs": [],
   "source": [
    "# imputer, scaler, train, validate, test = prep_zillow(df)"
   ]
  },
  {
   "cell_type": "code",
   "execution_count": 12,
   "metadata": {},
   "outputs": [
    {
     "ename": "NameError",
     "evalue": "name 'train' is not defined",
     "output_type": "error",
     "traceback": [
      "\u001b[0;31m---------------------------------------------------------------------------\u001b[0m",
      "\u001b[0;31mNameError\u001b[0m                                 Traceback (most recent call last)",
      "\u001b[0;32m<ipython-input-12-3b77fa18a747>\u001b[0m in \u001b[0;36m<module>\u001b[0;34m\u001b[0m\n\u001b[0;32m----> 1\u001b[0;31m \u001b[0mtrain\u001b[0m\u001b[0;34m.\u001b[0m\u001b[0mhead\u001b[0m\u001b[0;34m(\u001b[0m\u001b[0;34m)\u001b[0m\u001b[0;34m\u001b[0m\u001b[0;34m\u001b[0m\u001b[0m\n\u001b[0m",
      "\u001b[0;31mNameError\u001b[0m: name 'train' is not defined"
     ]
    }
   ],
   "source": [
    "# train.head()"
   ]
  },
  {
   "cell_type": "code",
   "execution_count": 15,
   "metadata": {},
   "outputs": [],
   "source": [
    "from scipy.stats import zscore, iqr, percentileofscore, scoreatpercentile\n",
    "\n",
    "\n",
    "# create a function that takes in a column and a method and returns outliers\n",
    "IQR = (df.bathroomcnt.quantile(.75) - df.bathroomcnt.quantile(.25))*3\n"
   ]
  },
  {
   "cell_type": "code",
   "execution_count": 16,
   "metadata": {},
   "outputs": [
    {
     "data": {
      "text/plain": [
       "3.0"
      ]
     },
     "execution_count": 16,
     "metadata": {},
     "output_type": "execute_result"
    }
   ],
   "source": []
  },
  {
   "cell_type": "code",
   "execution_count": 17,
   "metadata": {},
   "outputs": [
    {
     "data": {
      "text/plain": [
       "array([ 1.20546271, -1.30276568, -0.29947432, ..., -1.30276568,\n",
       "       -0.29947432, -0.29947432])"
      ]
     },
     "execution_count": 17,
     "metadata": {},
     "output_type": "execute_result"
    }
   ],
   "source": [
    "zscore(df.bathroomcnt)"
   ]
  },
  {
   "cell_type": "code",
   "execution_count": 18,
   "metadata": {},
   "outputs": [
    {
     "data": {
      "text/plain": [
       "1.0"
      ]
     },
     "execution_count": 18,
     "metadata": {},
     "output_type": "execute_result"
    }
   ],
   "source": [
    "iqr(df.bathroomcnt)"
   ]
  },
  {
   "cell_type": "code",
   "execution_count": 19,
   "metadata": {},
   "outputs": [
    {
     "data": {
      "text/plain": [
       "99.31425625161124"
      ]
     },
     "execution_count": 19,
     "metadata": {},
     "output_type": "execute_result"
    }
   ],
   "source": [
    "percentileofscore(df.bathroomcnt, score=6)"
   ]
  },
  {
   "cell_type": "code",
   "execution_count": 20,
   "metadata": {},
   "outputs": [
    {
     "data": {
      "text/plain": [
       "Index(['id', 'parcelid', 'airconditioningtypeid', 'architecturalstyletypeid',\n",
       "       'basementsqft', 'bathroomcnt', 'bedroomcnt', 'buildingclasstypeid',\n",
       "       'buildingqualitytypeid', 'calculatedbathnbr', 'decktypeid',\n",
       "       'finishedfloor1squarefeet', 'calculatedfinishedsquarefeet',\n",
       "       'finishedsquarefeet12', 'finishedsquarefeet13', 'finishedsquarefeet15',\n",
       "       'finishedsquarefeet50', 'finishedsquarefeet6', 'fips', 'fireplacecnt',\n",
       "       'fullbathcnt', 'garagecarcnt', 'garagetotalsqft', 'hashottuborspa',\n",
       "       'heatingorsystemtypeid', 'latitude', 'longitude', 'lotsizesquarefeet',\n",
       "       'poolcnt', 'poolsizesum', 'pooltypeid10', 'pooltypeid2', 'pooltypeid7',\n",
       "       'propertycountylandusecode', 'propertylandusetypeid',\n",
       "       'propertyzoningdesc', 'rawcensustractandblock', 'regionidcity',\n",
       "       'regionidcounty', 'regionidneighborhood', 'regionidzip', 'roomcnt',\n",
       "       'storytypeid', 'threequarterbathnbr', 'typeconstructiontypeid',\n",
       "       'unitcnt', 'yardbuildingsqft17', 'yardbuildingsqft26', 'yearbuilt',\n",
       "       'numberofstories', 'fireplaceflag', 'structuretaxvaluedollarcnt',\n",
       "       'taxvaluedollarcnt', 'assessmentyear', 'landtaxvaluedollarcnt',\n",
       "       'taxamount', 'taxdelinquencyflag', 'taxdelinquencyyear',\n",
       "       'censustractandblock', 'logerror', 'transactiondate',\n",
       "       'airconditioningdesc', 'architecturalstyledesc', 'buildingclassdesc',\n",
       "       'heatingorsystemdesc', 'propertylandusedesc', 'storydesc',\n",
       "       'typeconstructiondesc'],\n",
       "      dtype='object')"
      ]
     },
     "execution_count": 20,
     "metadata": {},
     "output_type": "execute_result"
    }
   ],
   "source": [
    "df.columns"
   ]
  },
  {
   "cell_type": "code",
   "execution_count": 30,
   "metadata": {},
   "outputs": [],
   "source": [
    "def sum_outliers(column, iqr_k=5, std_k=2):\n",
    "    IQR = iqr(column) * iqr_k\n",
    "    print(f'IQR is {IQR}')\n",
    "    iqr_mask = (column > column.median() + IQR)\n",
    "    zscore_mask = zscore(column) > std_k\n",
    "    return iqr_mask.sum(), zscore_mask.sum(), 100 - percentileofscore(column, score=IQR)\n",
    "      "
   ]
  },
  {
   "cell_type": "code",
   "execution_count": 31,
   "metadata": {},
   "outputs": [
    {
     "name": "stdout",
     "output_type": "stream",
     "text": [
      "IQR is 1810505.0\n"
     ]
    },
    {
     "data": {
      "text/plain": [
       "(1329, 1977, 2.5006767295273136)"
      ]
     },
     "execution_count": 31,
     "metadata": {},
     "output_type": "execute_result"
    }
   ],
   "source": [
    "sum_outliers(df.taxvaluedollarcnt)"
   ]
  },
  {
   "cell_type": "code",
   "execution_count": 124,
   "metadata": {},
   "outputs": [
    {
     "data": {
      "text/plain": [
       "(array([0., 0., 0., 0., 0., 0., 0., 0., 0., 0.]),\n",
       " array([0. , 0.1, 0.2, 0.3, 0.4, 0.5, 0.6, 0.7, 0.8, 0.9, 1. ]),\n",
       " <a list of 10 Patch objects>)"
      ]
     },
     "execution_count": 124,
     "metadata": {},
     "output_type": "execute_result"
    },
    {
     "data": {
      "image/png": "[encoded data removed]",
      "text/plain": [
       "<Figure size 432x288 with 1 Axes>"
      ]
     },
     "metadata": {
      "needs_background": "light"
     },
     "output_type": "display_data"
    }
   ],
   "source": [
    "plt.hist(zscore(df.taxvaluedollarcnt), bins=10)"
   ]
  },
  {
   "cell_type": "code",
   "execution_count": 121,
   "metadata": {},
   "outputs": [
    {
     "data": {
      "image/png": "[encoded data removed]",
      "text/plain": [
       "<Figure size 1800x3600 with 55 Axes>"
      ]
     },
     "metadata": {
      "needs_background": "light"
     },
     "output_type": "display_data"
    }
   ],
   "source": [
    "i = 0\n",
    "f = plt.figure(figsize=(25,50))\n",
    "for x in df.columns: \n",
    "    if df[x].dtype == 'float64':\n",
    "        df.dropna(inplace=True)\n",
    "        i += 1\n",
    "        f.add_subplot(11,5, i)\n",
    "        plt.hist(zscore(df[x].nsmallest(77000)), bins=30)"
   ]
  },
  {
   "cell_type": "code",
   "execution_count": 126,
   "metadata": {},
   "outputs": [],
   "source": [
    "def max_outlier(column):\n",
    "    z_score = pd.Series(zscore(column))\n",
    "    return z_score.nlargest(20)"
   ]
  },
  {
   "cell_type": "code",
   "execution_count": 131,
   "metadata": {},
   "outputs": [
    {
     "data": {
      "text/plain": [
       "Series([], dtype: float64)"
      ]
     },
     "execution_count": 131,
     "metadata": {},
     "output_type": "execute_result"
    }
   ],
   "source": [
    "max_outlier(df.bathroomcnt)"
   ]
  },
  {
   "cell_type": "code",
   "execution_count": 43,
   "metadata": {},
   "outputs": [
    {
     "data": {
      "text/plain": [
       "74.2915791953803"
      ]
     },
     "execution_count": 43,
     "metadata": {},
     "output_type": "execute_result"
    }
   ],
   "source": [
    "zscore(df.taxvaluedollarcnt).max()"
   ]
  },
  {
   "cell_type": "code",
   "execution_count": 44,
   "metadata": {},
   "outputs": [
    {
     "data": {
      "text/plain": [
       "49061236.0"
      ]
     },
     "execution_count": 44,
     "metadata": {},
     "output_type": "execute_result"
    }
   ],
   "source": [
    "df.taxvaluedollarcnt.max()"
   ]
  },
  {
   "cell_type": "code",
   "execution_count": 45,
   "metadata": {},
   "outputs": [
    {
     "data": {
      "text/plain": [
       "8550     49061236.0\n",
       "16694    25381250.0\n",
       "7823     24345695.0\n",
       "36562    23858374.0\n",
       "45588    22589311.0\n",
       "76658    20203475.0\n",
       "11050    19280700.0\n",
       "39995    18812604.0\n",
       "7193     16814671.0\n",
       "14190    16497812.0\n",
       "76998    15736374.0\n",
       "37195    15623925.0\n",
       "59423    15618488.0\n",
       "66648    15533020.0\n",
       "33248    13852918.0\n",
       "72352    13600098.0\n",
       "27914    13523065.0\n",
       "16213    13198250.0\n",
       "28702    13191321.0\n",
       "43454    13128583.0\n",
       "Name: taxvaluedollarcnt, dtype: float64"
      ]
     },
     "execution_count": 45,
     "metadata": {},
     "output_type": "execute_result"
    }
   ],
   "source": [
    "df.taxvaluedollarcnt.nlargest(20)"
   ]
  },
  {
   "cell_type": "code",
   "execution_count": 65,
   "metadata": {},
   "outputs": [
    {
     "data": {
      "text/plain": [
       "dtype('float64')"
      ]
     },
     "execution_count": 65,
     "metadata": {},
     "output_type": "execute_result"
    }
   ],
   "source": [
    "df.taxvaluedollarcnt.dtype"
   ]
  },
  {
   "cell_type": "code",
   "execution_count": 74,
   "metadata": {},
   "outputs": [
    {
     "ename": "IndentationError",
     "evalue": "unexpected indent (<ipython-input-74-1b12c1083118>, line 6)",
     "output_type": "error",
     "traceback": [
      "\u001b[0;36m  File \u001b[0;32m\"<ipython-input-74-1b12c1083118>\"\u001b[0;36m, line \u001b[0;32m6\u001b[0m\n\u001b[0;31m    df[x].hist()\u001b[0m\n\u001b[0m    ^\u001b[0m\n\u001b[0;31mIndentationError\u001b[0m\u001b[0;31m:\u001b[0m unexpected indent\n"
     ]
    }
   ],
   "source": [
    "# for i in range(0,25):\n",
    "#     for x in df.columns:\n",
    "#         if df[x].dtype == 'float64':\n",
    "#             df[x].hist()\n",
    "#     f.add_subplot(5,5, i+1)\n",
    "#             df[x].hist()\n",
    "# plt.tight_layout()\n",
    "# plt.show()"
   ]
  },
  {
   "cell_type": "code",
   "execution_count": 132,
   "metadata": {},
   "outputs": [],
   "source": [
    "# f = plt.figure(figsize=(25,20))\n",
    "# for i in range(0,21):\n",
    "#     if len(train.groupby(train.iloc[:,i+3])) < 5:\n",
    "#         f.add_subplot(5,5, i+1)\n",
    "#         sns.barplot(data=train, y=\"is_churn\", x=train.iloc[:,i+3])\n",
    "#         plt.title(train.columns[i+3])\n",
    "# plt.tight_layout()\n",
    "# plt.show()"
   ]
  },
  {
   "cell_type": "code",
   "execution_count": 91,
   "metadata": {},
   "outputs": [
    {
     "name": "stdout",
     "output_type": "stream",
     "text": [
      "[['id' 'parcelid' 'airconditioningtypeid' 'architecturalstyletypeid'\n",
      "  'basementsqft' 'bathroomcnt' 'bedroomcnt' 'buildingclasstypeid'\n",
      "  'buildingqualitytypeid' 'calculatedbathnbr' 'decktypeid'\n",
      "  'finishedfloor1squarefeet' 'calculatedfinishedsquarefeet'\n",
      "  'finishedsquarefeet12' 'finishedsquarefeet13' 'finishedsquarefeet15'\n",
      "  'finishedsquarefeet50' 'finishedsquarefeet6' 'fips' 'fireplacecnt'\n",
      "  'fullbathcnt' 'garagecarcnt' 'garagetotalsqft' 'hashottuborspa'\n",
      "  'heatingorsystemtypeid' 'latitude' 'longitude' 'lotsizesquarefeet'\n",
      "  'poolcnt' 'poolsizesum' 'pooltypeid10' 'pooltypeid2' 'pooltypeid7'\n",
      "  'propertycountylandusecode' 'propertylandusetypeid'\n",
      "  'propertyzoningdesc' 'rawcensustractandblock' 'regionidcity'\n",
      "  'regionidcounty' 'regionidneighborhood' 'regionidzip' 'roomcnt'\n",
      "  'storytypeid' 'threequarterbathnbr' 'typeconstructiontypeid' 'unitcnt'\n",
      "  'yardbuildingsqft17' 'yardbuildingsqft26' 'yearbuilt' 'numberofstories'\n",
      "  'fireplaceflag' 'structuretaxvaluedollarcnt' 'taxvaluedollarcnt'\n",
      "  'assessmentyear' 'landtaxvaluedollarcnt' 'taxamount'\n",
      "  'taxdelinquencyflag' 'taxdelinquencyyear' 'censustractandblock'\n",
      "  'logerror' 'transactiondate' 'airconditioningdesc'\n",
      "  'architecturalstyledesc' 'buildingclassdesc' 'heatingorsystemdesc'\n",
      "  'propertylandusedesc' 'storydesc' 'typeconstructiondesc']]\n",
      "[['id' 'parcelid' 'airconditioningtypeid' 'architecturalstyletypeid'\n",
      "  'basementsqft' 'bathroomcnt' 'bedroomcnt' 'buildingclasstypeid'\n",
      "  'buildingqualitytypeid' 'calculatedbathnbr' 'decktypeid'\n",
      "  'finishedfloor1squarefeet' 'calculatedfinishedsquarefeet'\n",
      "  'finishedsquarefeet12' 'finishedsquarefeet13' 'finishedsquarefeet15'\n",
      "  'finishedsquarefeet50' 'finishedsquarefeet6' 'fips' 'fireplacecnt'\n",
      "  'fullbathcnt' 'garagecarcnt' 'garagetotalsqft' 'hashottuborspa'\n",
      "  'heatingorsystemtypeid' 'latitude' 'longitude' 'lotsizesquarefeet'\n",
      "  'poolcnt' 'poolsizesum' 'pooltypeid10' 'pooltypeid2' 'pooltypeid7'\n",
      "  'propertycountylandusecode' 'propertylandusetypeid'\n",
      "  'propertyzoningdesc' 'rawcensustractandblock' 'regionidcity'\n",
      "  'regionidcounty' 'regionidneighborhood' 'regionidzip' 'roomcnt'\n",
      "  'storytypeid' 'threequarterbathnbr' 'typeconstructiontypeid' 'unitcnt'\n",
      "  'yardbuildingsqft17' 'yardbuildingsqft26' 'yearbuilt' 'numberofstories'\n",
      "  'fireplaceflag' 'structuretaxvaluedollarcnt' 'taxvaluedollarcnt'\n",
      "  'assessmentyear' 'landtaxvaluedollarcnt' 'taxamount'\n",
      "  'taxdelinquencyflag' 'taxdelinquencyyear' 'censustractandblock'\n",
      "  'logerror' 'transactiondate' 'airconditioningdesc'\n",
      "  'architecturalstyledesc' 'buildingclassdesc' 'heatingorsystemdesc'\n",
      "  'propertylandusedesc' 'storydesc' 'typeconstructiondesc']]\n",
      "[['id' 'parcelid' 'airconditioningtypeid' 'architecturalstyletypeid'\n",
      "  'basementsqft' 'bathroomcnt' 'bedroomcnt' 'buildingclasstypeid'\n",
      "  'buildingqualitytypeid' 'calculatedbathnbr' 'decktypeid'\n",
      "  'finishedfloor1squarefeet' 'calculatedfinishedsquarefeet'\n",
      "  'finishedsquarefeet12' 'finishedsquarefeet13' 'finishedsquarefeet15'\n",
      "  'finishedsquarefeet50' 'finishedsquarefeet6' 'fips' 'fireplacecnt'\n",
      "  'fullbathcnt' 'garagecarcnt' 'garagetotalsqft' 'hashottuborspa'\n",
      "  'heatingorsystemtypeid' 'latitude' 'longitude' 'lotsizesquarefeet'\n",
      "  'poolcnt' 'poolsizesum' 'pooltypeid10' 'pooltypeid2' 'pooltypeid7'\n",
      "  'propertycountylandusecode' 'propertylandusetypeid'\n",
      "  'propertyzoningdesc' 'rawcensustractandblock' 'regionidcity'\n",
      "  'regionidcounty' 'regionidneighborhood' 'regionidzip' 'roomcnt'\n",
      "  'storytypeid' 'threequarterbathnbr' 'typeconstructiontypeid' 'unitcnt'\n",
      "  'yardbuildingsqft17' 'yardbuildingsqft26' 'yearbuilt' 'numberofstories'\n",
      "  'fireplaceflag' 'structuretaxvaluedollarcnt' 'taxvaluedollarcnt'\n",
      "  'assessmentyear' 'landtaxvaluedollarcnt' 'taxamount'\n",
      "  'taxdelinquencyflag' 'taxdelinquencyyear' 'censustractandblock'\n",
      "  'logerror' 'transactiondate' 'airconditioningdesc'\n",
      "  'architecturalstyledesc' 'buildingclassdesc' 'heatingorsystemdesc'\n",
      "  'propertylandusedesc' 'storydesc' 'typeconstructiondesc']]\n",
      "[]\n",
      "[]\n",
      "[['id' 'parcelid' 'airconditioningtypeid' 'architecturalstyletypeid'\n",
      "  'basementsqft' 'bathroomcnt' 'bedroomcnt' 'buildingclasstypeid'\n",
      "  'buildingqualitytypeid' 'calculatedbathnbr' 'decktypeid'\n",
      "  'finishedfloor1squarefeet' 'calculatedfinishedsquarefeet'\n",
      "  'finishedsquarefeet12' 'finishedsquarefeet13' 'finishedsquarefeet15'\n",
      "  'finishedsquarefeet50' 'finishedsquarefeet6' 'fips' 'fireplacecnt'\n",
      "  'fullbathcnt' 'garagecarcnt' 'garagetotalsqft' 'hashottuborspa'\n",
      "  'heatingorsystemtypeid' 'latitude' 'longitude' 'lotsizesquarefeet'\n",
      "  'poolcnt' 'poolsizesum' 'pooltypeid10' 'pooltypeid2' 'pooltypeid7'\n",
      "  'propertycountylandusecode' 'propertylandusetypeid'\n",
      "  'propertyzoningdesc' 'rawcensustractandblock' 'regionidcity'\n",
      "  'regionidcounty' 'regionidneighborhood' 'regionidzip' 'roomcnt'\n",
      "  'storytypeid' 'threequarterbathnbr' 'typeconstructiontypeid' 'unitcnt'\n",
      "  'yardbuildingsqft17' 'yardbuildingsqft26' 'yearbuilt' 'numberofstories'\n",
      "  'fireplaceflag' 'structuretaxvaluedollarcnt' 'taxvaluedollarcnt'\n",
      "  'assessmentyear' 'landtaxvaluedollarcnt' 'taxamount'\n",
      "  'taxdelinquencyflag' 'taxdelinquencyyear' 'censustractandblock'\n",
      "  'logerror' 'transactiondate' 'airconditioningdesc'\n",
      "  'architecturalstyledesc' 'buildingclassdesc' 'heatingorsystemdesc'\n",
      "  'propertylandusedesc' 'storydesc' 'typeconstructiondesc']]\n",
      "[['id' 'parcelid' 'airconditioningtypeid' 'architecturalstyletypeid'\n",
      "  'basementsqft' 'bathroomcnt' 'bedroomcnt' 'buildingclasstypeid'\n",
      "  'buildingqualitytypeid' 'calculatedbathnbr' 'decktypeid'\n",
      "  'finishedfloor1squarefeet' 'calculatedfinishedsquarefeet'\n",
      "  'finishedsquarefeet12' 'finishedsquarefeet13' 'finishedsquarefeet15'\n",
      "  'finishedsquarefeet50' 'finishedsquarefeet6' 'fips' 'fireplacecnt'\n",
      "  'fullbathcnt' 'garagecarcnt' 'garagetotalsqft' 'hashottuborspa'\n",
      "  'heatingorsystemtypeid' 'latitude' 'longitude' 'lotsizesquarefeet'\n",
      "  'poolcnt' 'poolsizesum' 'pooltypeid10' 'pooltypeid2' 'pooltypeid7'\n",
      "  'propertycountylandusecode' 'propertylandusetypeid'\n",
      "  'propertyzoningdesc' 'rawcensustractandblock' 'regionidcity'\n",
      "  'regionidcounty' 'regionidneighborhood' 'regionidzip' 'roomcnt'\n",
      "  'storytypeid' 'threequarterbathnbr' 'typeconstructiontypeid' 'unitcnt'\n",
      "  'yardbuildingsqft17' 'yardbuildingsqft26' 'yearbuilt' 'numberofstories'\n",
      "  'fireplaceflag' 'structuretaxvaluedollarcnt' 'taxvaluedollarcnt'\n",
      "  'assessmentyear' 'landtaxvaluedollarcnt' 'taxamount'\n",
      "  'taxdelinquencyflag' 'taxdelinquencyyear' 'censustractandblock'\n",
      "  'logerror' 'transactiondate' 'airconditioningdesc'\n",
      "  'architecturalstyledesc' 'buildingclassdesc' 'heatingorsystemdesc'\n",
      "  'propertylandusedesc' 'storydesc' 'typeconstructiondesc']]\n",
      "[]\n",
      "[['id' 'parcelid' 'airconditioningtypeid' 'architecturalstyletypeid'\n",
      "  'basementsqft' 'bathroomcnt' 'bedroomcnt' 'buildingclasstypeid'\n",
      "  'buildingqualitytypeid' 'calculatedbathnbr' 'decktypeid'\n",
      "  'finishedfloor1squarefeet' 'calculatedfinishedsquarefeet'\n",
      "  'finishedsquarefeet12' 'finishedsquarefeet13' 'finishedsquarefeet15'\n",
      "  'finishedsquarefeet50' 'finishedsquarefeet6' 'fips' 'fireplacecnt'\n",
      "  'fullbathcnt' 'garagecarcnt' 'garagetotalsqft' 'hashottuborspa'\n",
      "  'heatingorsystemtypeid' 'latitude' 'longitude' 'lotsizesquarefeet'\n",
      "  'poolcnt' 'poolsizesum' 'pooltypeid10' 'pooltypeid2' 'pooltypeid7'\n",
      "  'propertycountylandusecode' 'propertylandusetypeid'\n",
      "  'propertyzoningdesc' 'rawcensustractandblock' 'regionidcity'\n",
      "  'regionidcounty' 'regionidneighborhood' 'regionidzip' 'roomcnt'\n",
      "  'storytypeid' 'threequarterbathnbr' 'typeconstructiontypeid' 'unitcnt'\n",
      "  'yardbuildingsqft17' 'yardbuildingsqft26' 'yearbuilt' 'numberofstories'\n",
      "  'fireplaceflag' 'structuretaxvaluedollarcnt' 'taxvaluedollarcnt'\n",
      "  'assessmentyear' 'landtaxvaluedollarcnt' 'taxamount'\n",
      "  'taxdelinquencyflag' 'taxdelinquencyyear' 'censustractandblock'\n",
      "  'logerror' 'transactiondate' 'airconditioningdesc'\n",
      "  'architecturalstyledesc' 'buildingclassdesc' 'heatingorsystemdesc'\n",
      "  'propertylandusedesc' 'storydesc' 'typeconstructiondesc']]\n",
      "[['id' 'parcelid' 'airconditioningtypeid' 'architecturalstyletypeid'\n",
      "  'basementsqft' 'bathroomcnt' 'bedroomcnt' 'buildingclasstypeid'\n",
      "  'buildingqualitytypeid' 'calculatedbathnbr' 'decktypeid'\n",
      "  'finishedfloor1squarefeet' 'calculatedfinishedsquarefeet'\n",
      "  'finishedsquarefeet12' 'finishedsquarefeet13' 'finishedsquarefeet15'\n",
      "  'finishedsquarefeet50' 'finishedsquarefeet6' 'fips' 'fireplacecnt'\n",
      "  'fullbathcnt' 'garagecarcnt' 'garagetotalsqft' 'hashottuborspa'\n",
      "  'heatingorsystemtypeid' 'latitude' 'longitude' 'lotsizesquarefeet'\n",
      "  'poolcnt' 'poolsizesum' 'pooltypeid10' 'pooltypeid2' 'pooltypeid7'\n",
      "  'propertycountylandusecode' 'propertylandusetypeid'\n",
      "  'propertyzoningdesc' 'rawcensustractandblock' 'regionidcity'\n",
      "  'regionidcounty' 'regionidneighborhood' 'regionidzip' 'roomcnt'\n",
      "  'storytypeid' 'threequarterbathnbr' 'typeconstructiontypeid' 'unitcnt'\n",
      "  'yardbuildingsqft17' 'yardbuildingsqft26' 'yearbuilt' 'numberofstories'\n",
      "  'fireplaceflag' 'structuretaxvaluedollarcnt' 'taxvaluedollarcnt'\n",
      "  'assessmentyear' 'landtaxvaluedollarcnt' 'taxamount'\n",
      "  'taxdelinquencyflag' 'taxdelinquencyyear' 'censustractandblock'\n",
      "  'logerror' 'transactiondate' 'airconditioningdesc'\n",
      "  'architecturalstyledesc' 'buildingclassdesc' 'heatingorsystemdesc'\n",
      "  'propertylandusedesc' 'storydesc' 'typeconstructiondesc']]\n",
      "[]\n",
      "[]\n",
      "[['id' 'parcelid' 'airconditioningtypeid' 'architecturalstyletypeid'\n",
      "  'basementsqft' 'bathroomcnt' 'bedroomcnt' 'buildingclasstypeid'\n",
      "  'buildingqualitytypeid' 'calculatedbathnbr' 'decktypeid'\n",
      "  'finishedfloor1squarefeet' 'calculatedfinishedsquarefeet'\n",
      "  'finishedsquarefeet12' 'finishedsquarefeet13' 'finishedsquarefeet15'\n",
      "  'finishedsquarefeet50' 'finishedsquarefeet6' 'fips' 'fireplacecnt'\n",
      "  'fullbathcnt' 'garagecarcnt' 'garagetotalsqft' 'hashottuborspa'\n",
      "  'heatingorsystemtypeid' 'latitude' 'longitude' 'lotsizesquarefeet'\n",
      "  'poolcnt' 'poolsizesum' 'pooltypeid10' 'pooltypeid2' 'pooltypeid7'\n",
      "  'propertycountylandusecode' 'propertylandusetypeid'\n",
      "  'propertyzoningdesc' 'rawcensustractandblock' 'regionidcity'\n",
      "  'regionidcounty' 'regionidneighborhood' 'regionidzip' 'roomcnt'\n",
      "  'storytypeid' 'threequarterbathnbr' 'typeconstructiontypeid' 'unitcnt'\n",
      "  'yardbuildingsqft17' 'yardbuildingsqft26' 'yearbuilt' 'numberofstories'\n",
      "  'fireplaceflag' 'structuretaxvaluedollarcnt' 'taxvaluedollarcnt'\n",
      "  'assessmentyear' 'landtaxvaluedollarcnt' 'taxamount'\n",
      "  'taxdelinquencyflag' 'taxdelinquencyyear' 'censustractandblock'\n",
      "  'logerror' 'transactiondate' 'airconditioningdesc'\n",
      "  'architecturalstyledesc' 'buildingclassdesc' 'heatingorsystemdesc'\n",
      "  'propertylandusedesc' 'storydesc' 'typeconstructiondesc']]\n",
      "[['id' 'parcelid' 'airconditioningtypeid' 'architecturalstyletypeid'\n",
      "  'basementsqft' 'bathroomcnt' 'bedroomcnt' 'buildingclasstypeid'\n",
      "  'buildingqualitytypeid' 'calculatedbathnbr' 'decktypeid'\n",
      "  'finishedfloor1squarefeet' 'calculatedfinishedsquarefeet'\n",
      "  'finishedsquarefeet12' 'finishedsquarefeet13' 'finishedsquarefeet15'\n",
      "  'finishedsquarefeet50' 'finishedsquarefeet6' 'fips' 'fireplacecnt'\n",
      "  'fullbathcnt' 'garagecarcnt' 'garagetotalsqft' 'hashottuborspa'\n",
      "  'heatingorsystemtypeid' 'latitude' 'longitude' 'lotsizesquarefeet'\n",
      "  'poolcnt' 'poolsizesum' 'pooltypeid10' 'pooltypeid2' 'pooltypeid7'\n",
      "  'propertycountylandusecode' 'propertylandusetypeid'\n",
      "  'propertyzoningdesc' 'rawcensustractandblock' 'regionidcity'\n",
      "  'regionidcounty' 'regionidneighborhood' 'regionidzip' 'roomcnt'\n",
      "  'storytypeid' 'threequarterbathnbr' 'typeconstructiontypeid' 'unitcnt'\n",
      "  'yardbuildingsqft17' 'yardbuildingsqft26' 'yearbuilt' 'numberofstories'\n",
      "  'fireplaceflag' 'structuretaxvaluedollarcnt' 'taxvaluedollarcnt'\n",
      "  'assessmentyear' 'landtaxvaluedollarcnt' 'taxamount'\n",
      "  'taxdelinquencyflag' 'taxdelinquencyyear' 'censustractandblock'\n",
      "  'logerror' 'transactiondate' 'airconditioningdesc'\n",
      "  'architecturalstyledesc' 'buildingclassdesc' 'heatingorsystemdesc'\n",
      "  'propertylandusedesc' 'storydesc' 'typeconstructiondesc']]\n",
      "[]\n",
      "[]\n",
      "[]\n",
      "[]\n",
      "[['id' 'parcelid' 'airconditioningtypeid' 'architecturalstyletypeid'\n",
      "  'basementsqft' 'bathroomcnt' 'bedroomcnt' 'buildingclasstypeid'\n",
      "  'buildingqualitytypeid' 'calculatedbathnbr' 'decktypeid'\n",
      "  'finishedfloor1squarefeet' 'calculatedfinishedsquarefeet'\n",
      "  'finishedsquarefeet12' 'finishedsquarefeet13' 'finishedsquarefeet15'\n",
      "  'finishedsquarefeet50' 'finishedsquarefeet6' 'fips' 'fireplacecnt'\n",
      "  'fullbathcnt' 'garagecarcnt' 'garagetotalsqft' 'hashottuborspa'\n",
      "  'heatingorsystemtypeid' 'latitude' 'longitude' 'lotsizesquarefeet'\n",
      "  'poolcnt' 'poolsizesum' 'pooltypeid10' 'pooltypeid2' 'pooltypeid7'\n",
      "  'propertycountylandusecode' 'propertylandusetypeid'\n",
      "  'propertyzoningdesc' 'rawcensustractandblock' 'regionidcity'\n",
      "  'regionidcounty' 'regionidneighborhood' 'regionidzip' 'roomcnt'\n",
      "  'storytypeid' 'threequarterbathnbr' 'typeconstructiontypeid' 'unitcnt'\n",
      "  'yardbuildingsqft17' 'yardbuildingsqft26' 'yearbuilt' 'numberofstories'\n",
      "  'fireplaceflag' 'structuretaxvaluedollarcnt' 'taxvaluedollarcnt'\n",
      "  'assessmentyear' 'landtaxvaluedollarcnt' 'taxamount'\n",
      "  'taxdelinquencyflag' 'taxdelinquencyyear' 'censustractandblock'\n",
      "  'logerror' 'transactiondate' 'airconditioningdesc'\n",
      "  'architecturalstyledesc' 'buildingclassdesc' 'heatingorsystemdesc'\n",
      "  'propertylandusedesc' 'storydesc' 'typeconstructiondesc']]\n",
      "[]\n",
      "[['id' 'parcelid' 'airconditioningtypeid' 'architecturalstyletypeid'\n",
      "  'basementsqft' 'bathroomcnt' 'bedroomcnt' 'buildingclasstypeid'\n",
      "  'buildingqualitytypeid' 'calculatedbathnbr' 'decktypeid'\n",
      "  'finishedfloor1squarefeet' 'calculatedfinishedsquarefeet'\n",
      "  'finishedsquarefeet12' 'finishedsquarefeet13' 'finishedsquarefeet15'\n",
      "  'finishedsquarefeet50' 'finishedsquarefeet6' 'fips' 'fireplacecnt'\n",
      "  'fullbathcnt' 'garagecarcnt' 'garagetotalsqft' 'hashottuborspa'\n",
      "  'heatingorsystemtypeid' 'latitude' 'longitude' 'lotsizesquarefeet'\n",
      "  'poolcnt' 'poolsizesum' 'pooltypeid10' 'pooltypeid2' 'pooltypeid7'\n",
      "  'propertycountylandusecode' 'propertylandusetypeid'\n",
      "  'propertyzoningdesc' 'rawcensustractandblock' 'regionidcity'\n",
      "  'regionidcounty' 'regionidneighborhood' 'regionidzip' 'roomcnt'\n",
      "  'storytypeid' 'threequarterbathnbr' 'typeconstructiontypeid' 'unitcnt'\n",
      "  'yardbuildingsqft17' 'yardbuildingsqft26' 'yearbuilt' 'numberofstories'\n",
      "  'fireplaceflag' 'structuretaxvaluedollarcnt' 'taxvaluedollarcnt'\n",
      "  'assessmentyear' 'landtaxvaluedollarcnt' 'taxamount'\n",
      "  'taxdelinquencyflag' 'taxdelinquencyyear' 'censustractandblock'\n",
      "  'logerror' 'transactiondate' 'airconditioningdesc'\n",
      "  'architecturalstyledesc' 'buildingclassdesc' 'heatingorsystemdesc'\n",
      "  'propertylandusedesc' 'storydesc' 'typeconstructiondesc']]\n",
      "[['id' 'parcelid' 'airconditioningtypeid' 'architecturalstyletypeid'\n",
      "  'basementsqft' 'bathroomcnt' 'bedroomcnt' 'buildingclasstypeid'\n",
      "  'buildingqualitytypeid' 'calculatedbathnbr' 'decktypeid'\n",
      "  'finishedfloor1squarefeet' 'calculatedfinishedsquarefeet'\n",
      "  'finishedsquarefeet12' 'finishedsquarefeet13' 'finishedsquarefeet15'\n",
      "  'finishedsquarefeet50' 'finishedsquarefeet6' 'fips' 'fireplacecnt'\n",
      "  'fullbathcnt' 'garagecarcnt' 'garagetotalsqft' 'hashottuborspa'\n",
      "  'heatingorsystemtypeid' 'latitude' 'longitude' 'lotsizesquarefeet'\n",
      "  'poolcnt' 'poolsizesum' 'pooltypeid10' 'pooltypeid2' 'pooltypeid7'\n",
      "  'propertycountylandusecode' 'propertylandusetypeid'\n",
      "  'propertyzoningdesc' 'rawcensustractandblock' 'regionidcity'\n",
      "  'regionidcounty' 'regionidneighborhood' 'regionidzip' 'roomcnt'\n",
      "  'storytypeid' 'threequarterbathnbr' 'typeconstructiontypeid' 'unitcnt'\n",
      "  'yardbuildingsqft17' 'yardbuildingsqft26' 'yearbuilt' 'numberofstories'\n",
      "  'fireplaceflag' 'structuretaxvaluedollarcnt' 'taxvaluedollarcnt'\n",
      "  'assessmentyear' 'landtaxvaluedollarcnt' 'taxamount'\n",
      "  'taxdelinquencyflag' 'taxdelinquencyyear' 'censustractandblock'\n",
      "  'logerror' 'transactiondate' 'airconditioningdesc'\n",
      "  'architecturalstyledesc' 'buildingclassdesc' 'heatingorsystemdesc'\n",
      "  'propertylandusedesc' 'storydesc' 'typeconstructiondesc']]\n",
      "[['id' 'parcelid' 'airconditioningtypeid' 'architecturalstyletypeid'\n",
      "  'basementsqft' 'bathroomcnt' 'bedroomcnt' 'buildingclasstypeid'\n",
      "  'buildingqualitytypeid' 'calculatedbathnbr' 'decktypeid'\n",
      "  'finishedfloor1squarefeet' 'calculatedfinishedsquarefeet'\n",
      "  'finishedsquarefeet12' 'finishedsquarefeet13' 'finishedsquarefeet15'\n",
      "  'finishedsquarefeet50' 'finishedsquarefeet6' 'fips' 'fireplacecnt'\n",
      "  'fullbathcnt' 'garagecarcnt' 'garagetotalsqft' 'hashottuborspa'\n",
      "  'heatingorsystemtypeid' 'latitude' 'longitude' 'lotsizesquarefeet'\n",
      "  'poolcnt' 'poolsizesum' 'pooltypeid10' 'pooltypeid2' 'pooltypeid7'\n",
      "  'propertycountylandusecode' 'propertylandusetypeid'\n",
      "  'propertyzoningdesc' 'rawcensustractandblock' 'regionidcity'\n",
      "  'regionidcounty' 'regionidneighborhood' 'regionidzip' 'roomcnt'\n",
      "  'storytypeid' 'threequarterbathnbr' 'typeconstructiontypeid' 'unitcnt'\n",
      "  'yardbuildingsqft17' 'yardbuildingsqft26' 'yearbuilt' 'numberofstories'\n",
      "  'fireplaceflag' 'structuretaxvaluedollarcnt' 'taxvaluedollarcnt'\n",
      "  'assessmentyear' 'landtaxvaluedollarcnt' 'taxamount'\n",
      "  'taxdelinquencyflag' 'taxdelinquencyyear' 'censustractandblock'\n",
      "  'logerror' 'transactiondate' 'airconditioningdesc'\n",
      "  'architecturalstyledesc' 'buildingclassdesc' 'heatingorsystemdesc'\n",
      "  'propertylandusedesc' 'storydesc' 'typeconstructiondesc']]\n",
      "[]\n",
      "[['id' 'parcelid' 'airconditioningtypeid' 'architecturalstyletypeid'\n",
      "  'basementsqft' 'bathroomcnt' 'bedroomcnt' 'buildingclasstypeid'\n",
      "  'buildingqualitytypeid' 'calculatedbathnbr' 'decktypeid'\n",
      "  'finishedfloor1squarefeet' 'calculatedfinishedsquarefeet'\n",
      "  'finishedsquarefeet12' 'finishedsquarefeet13' 'finishedsquarefeet15'\n",
      "  'finishedsquarefeet50' 'finishedsquarefeet6' 'fips' 'fireplacecnt'\n",
      "  'fullbathcnt' 'garagecarcnt' 'garagetotalsqft' 'hashottuborspa'\n",
      "  'heatingorsystemtypeid' 'latitude' 'longitude' 'lotsizesquarefeet'\n",
      "  'poolcnt' 'poolsizesum' 'pooltypeid10' 'pooltypeid2' 'pooltypeid7'\n",
      "  'propertycountylandusecode' 'propertylandusetypeid'\n",
      "  'propertyzoningdesc' 'rawcensustractandblock' 'regionidcity'\n",
      "  'regionidcounty' 'regionidneighborhood' 'regionidzip' 'roomcnt'\n",
      "  'storytypeid' 'threequarterbathnbr' 'typeconstructiontypeid' 'unitcnt'\n",
      "  'yardbuildingsqft17' 'yardbuildingsqft26' 'yearbuilt' 'numberofstories'\n",
      "  'fireplaceflag' 'structuretaxvaluedollarcnt' 'taxvaluedollarcnt'\n",
      "  'assessmentyear' 'landtaxvaluedollarcnt' 'taxamount'\n",
      "  'taxdelinquencyflag' 'taxdelinquencyyear' 'censustractandblock'\n",
      "  'logerror' 'transactiondate' 'airconditioningdesc'\n",
      "  'architecturalstyledesc' 'buildingclassdesc' 'heatingorsystemdesc'\n",
      "  'propertylandusedesc' 'storydesc' 'typeconstructiondesc']]\n",
      "[['id' 'parcelid' 'airconditioningtypeid' 'architecturalstyletypeid'\n",
      "  'basementsqft' 'bathroomcnt' 'bedroomcnt' 'buildingclasstypeid'\n",
      "  'buildingqualitytypeid' 'calculatedbathnbr' 'decktypeid'\n",
      "  'finishedfloor1squarefeet' 'calculatedfinishedsquarefeet'\n",
      "  'finishedsquarefeet12' 'finishedsquarefeet13' 'finishedsquarefeet15'\n",
      "  'finishedsquarefeet50' 'finishedsquarefeet6' 'fips' 'fireplacecnt'\n",
      "  'fullbathcnt' 'garagecarcnt' 'garagetotalsqft' 'hashottuborspa'\n",
      "  'heatingorsystemtypeid' 'latitude' 'longitude' 'lotsizesquarefeet'\n",
      "  'poolcnt' 'poolsizesum' 'pooltypeid10' 'pooltypeid2' 'pooltypeid7'\n",
      "  'propertycountylandusecode' 'propertylandusetypeid'\n",
      "  'propertyzoningdesc' 'rawcensustractandblock' 'regionidcity'\n",
      "  'regionidcounty' 'regionidneighborhood' 'regionidzip' 'roomcnt'\n",
      "  'storytypeid' 'threequarterbathnbr' 'typeconstructiontypeid' 'unitcnt'\n",
      "  'yardbuildingsqft17' 'yardbuildingsqft26' 'yearbuilt' 'numberofstories'\n",
      "  'fireplaceflag' 'structuretaxvaluedollarcnt' 'taxvaluedollarcnt'\n",
      "  'assessmentyear' 'landtaxvaluedollarcnt' 'taxamount'\n",
      "  'taxdelinquencyflag' 'taxdelinquencyyear' 'censustractandblock'\n",
      "  'logerror' 'transactiondate' 'airconditioningdesc'\n",
      "  'architecturalstyledesc' 'buildingclassdesc' 'heatingorsystemdesc'\n",
      "  'propertylandusedesc' 'storydesc' 'typeconstructiondesc']]\n",
      "[['id' 'parcelid' 'airconditioningtypeid' 'architecturalstyletypeid'\n",
      "  'basementsqft' 'bathroomcnt' 'bedroomcnt' 'buildingclasstypeid'\n",
      "  'buildingqualitytypeid' 'calculatedbathnbr' 'decktypeid'\n",
      "  'finishedfloor1squarefeet' 'calculatedfinishedsquarefeet'\n",
      "  'finishedsquarefeet12' 'finishedsquarefeet13' 'finishedsquarefeet15'\n",
      "  'finishedsquarefeet50' 'finishedsquarefeet6' 'fips' 'fireplacecnt'\n",
      "  'fullbathcnt' 'garagecarcnt' 'garagetotalsqft' 'hashottuborspa'\n",
      "  'heatingorsystemtypeid' 'latitude' 'longitude' 'lotsizesquarefeet'\n",
      "  'poolcnt' 'poolsizesum' 'pooltypeid10' 'pooltypeid2' 'pooltypeid7'\n",
      "  'propertycountylandusecode' 'propertylandusetypeid'\n",
      "  'propertyzoningdesc' 'rawcensustractandblock' 'regionidcity'\n",
      "  'regionidcounty' 'regionidneighborhood' 'regionidzip' 'roomcnt'\n",
      "  'storytypeid' 'threequarterbathnbr' 'typeconstructiontypeid' 'unitcnt'\n",
      "  'yardbuildingsqft17' 'yardbuildingsqft26' 'yearbuilt' 'numberofstories'\n",
      "  'fireplaceflag' 'structuretaxvaluedollarcnt' 'taxvaluedollarcnt'\n",
      "  'assessmentyear' 'landtaxvaluedollarcnt' 'taxamount'\n",
      "  'taxdelinquencyflag' 'taxdelinquencyyear' 'censustractandblock'\n",
      "  'logerror' 'transactiondate' 'airconditioningdesc'\n",
      "  'architecturalstyledesc' 'buildingclassdesc' 'heatingorsystemdesc'\n",
      "  'propertylandusedesc' 'storydesc' 'typeconstructiondesc']]\n",
      "[['id' 'parcelid' 'airconditioningtypeid' 'architecturalstyletypeid'\n",
      "  'basementsqft' 'bathroomcnt' 'bedroomcnt' 'buildingclasstypeid'\n",
      "  'buildingqualitytypeid' 'calculatedbathnbr' 'decktypeid'\n",
      "  'finishedfloor1squarefeet' 'calculatedfinishedsquarefeet'\n",
      "  'finishedsquarefeet12' 'finishedsquarefeet13' 'finishedsquarefeet15'\n",
      "  'finishedsquarefeet50' 'finishedsquarefeet6' 'fips' 'fireplacecnt'\n",
      "  'fullbathcnt' 'garagecarcnt' 'garagetotalsqft' 'hashottuborspa'\n",
      "  'heatingorsystemtypeid' 'latitude' 'longitude' 'lotsizesquarefeet'\n",
      "  'poolcnt' 'poolsizesum' 'pooltypeid10' 'pooltypeid2' 'pooltypeid7'\n",
      "  'propertycountylandusecode' 'propertylandusetypeid'\n",
      "  'propertyzoningdesc' 'rawcensustractandblock' 'regionidcity'\n",
      "  'regionidcounty' 'regionidneighborhood' 'regionidzip' 'roomcnt'\n",
      "  'storytypeid' 'threequarterbathnbr' 'typeconstructiontypeid' 'unitcnt'\n",
      "  'yardbuildingsqft17' 'yardbuildingsqft26' 'yearbuilt' 'numberofstories'\n",
      "  'fireplaceflag' 'structuretaxvaluedollarcnt' 'taxvaluedollarcnt'\n",
      "  'assessmentyear' 'landtaxvaluedollarcnt' 'taxamount'\n",
      "  'taxdelinquencyflag' 'taxdelinquencyyear' 'censustractandblock'\n",
      "  'logerror' 'transactiondate' 'airconditioningdesc'\n",
      "  'architecturalstyledesc' 'buildingclassdesc' 'heatingorsystemdesc'\n",
      "  'propertylandusedesc' 'storydesc' 'typeconstructiondesc']]\n",
      "[]\n",
      "[]\n",
      "[]\n",
      "[]\n",
      "[]\n",
      "[['id' 'parcelid' 'airconditioningtypeid' 'architecturalstyletypeid'\n",
      "  'basementsqft' 'bathroomcnt' 'bedroomcnt' 'buildingclasstypeid'\n",
      "  'buildingqualitytypeid' 'calculatedbathnbr' 'decktypeid'\n",
      "  'finishedfloor1squarefeet' 'calculatedfinishedsquarefeet'\n",
      "  'finishedsquarefeet12' 'finishedsquarefeet13' 'finishedsquarefeet15'\n",
      "  'finishedsquarefeet50' 'finishedsquarefeet6' 'fips' 'fireplacecnt'\n",
      "  'fullbathcnt' 'garagecarcnt' 'garagetotalsqft' 'hashottuborspa'\n",
      "  'heatingorsystemtypeid' 'latitude' 'longitude' 'lotsizesquarefeet'\n",
      "  'poolcnt' 'poolsizesum' 'pooltypeid10' 'pooltypeid2' 'pooltypeid7'\n",
      "  'propertycountylandusecode' 'propertylandusetypeid'\n",
      "  'propertyzoningdesc' 'rawcensustractandblock' 'regionidcity'\n",
      "  'regionidcounty' 'regionidneighborhood' 'regionidzip' 'roomcnt'\n",
      "  'storytypeid' 'threequarterbathnbr' 'typeconstructiontypeid' 'unitcnt'\n",
      "  'yardbuildingsqft17' 'yardbuildingsqft26' 'yearbuilt' 'numberofstories'\n",
      "  'fireplaceflag' 'structuretaxvaluedollarcnt' 'taxvaluedollarcnt'\n",
      "  'assessmentyear' 'landtaxvaluedollarcnt' 'taxamount'\n",
      "  'taxdelinquencyflag' 'taxdelinquencyyear' 'censustractandblock'\n",
      "  'logerror' 'transactiondate' 'airconditioningdesc'\n",
      "  'architecturalstyledesc' 'buildingclassdesc' 'heatingorsystemdesc'\n",
      "  'propertylandusedesc' 'storydesc' 'typeconstructiondesc']]\n",
      "[['id' 'parcelid' 'airconditioningtypeid' 'architecturalstyletypeid'\n",
      "  'basementsqft' 'bathroomcnt' 'bedroomcnt' 'buildingclasstypeid'\n",
      "  'buildingqualitytypeid' 'calculatedbathnbr' 'decktypeid'\n",
      "  'finishedfloor1squarefeet' 'calculatedfinishedsquarefeet'\n",
      "  'finishedsquarefeet12' 'finishedsquarefeet13' 'finishedsquarefeet15'\n",
      "  'finishedsquarefeet50' 'finishedsquarefeet6' 'fips' 'fireplacecnt'\n",
      "  'fullbathcnt' 'garagecarcnt' 'garagetotalsqft' 'hashottuborspa'\n",
      "  'heatingorsystemtypeid' 'latitude' 'longitude' 'lotsizesquarefeet'\n",
      "  'poolcnt' 'poolsizesum' 'pooltypeid10' 'pooltypeid2' 'pooltypeid7'\n",
      "  'propertycountylandusecode' 'propertylandusetypeid'\n",
      "  'propertyzoningdesc' 'rawcensustractandblock' 'regionidcity'\n",
      "  'regionidcounty' 'regionidneighborhood' 'regionidzip' 'roomcnt'\n",
      "  'storytypeid' 'threequarterbathnbr' 'typeconstructiontypeid' 'unitcnt'\n",
      "  'yardbuildingsqft17' 'yardbuildingsqft26' 'yearbuilt' 'numberofstories'\n",
      "  'fireplaceflag' 'structuretaxvaluedollarcnt' 'taxvaluedollarcnt'\n",
      "  'assessmentyear' 'landtaxvaluedollarcnt' 'taxamount'\n",
      "  'taxdelinquencyflag' 'taxdelinquencyyear' 'censustractandblock'\n",
      "  'logerror' 'transactiondate' 'airconditioningdesc'\n",
      "  'architecturalstyledesc' 'buildingclassdesc' 'heatingorsystemdesc'\n",
      "  'propertylandusedesc' 'storydesc' 'typeconstructiondesc']]\n",
      "[['id' 'parcelid' 'airconditioningtypeid' 'architecturalstyletypeid'\n",
      "  'basementsqft' 'bathroomcnt' 'bedroomcnt' 'buildingclasstypeid'\n",
      "  'buildingqualitytypeid' 'calculatedbathnbr' 'decktypeid'\n",
      "  'finishedfloor1squarefeet' 'calculatedfinishedsquarefeet'\n",
      "  'finishedsquarefeet12' 'finishedsquarefeet13' 'finishedsquarefeet15'\n",
      "  'finishedsquarefeet50' 'finishedsquarefeet6' 'fips' 'fireplacecnt'\n",
      "  'fullbathcnt' 'garagecarcnt' 'garagetotalsqft' 'hashottuborspa'\n",
      "  'heatingorsystemtypeid' 'latitude' 'longitude' 'lotsizesquarefeet'\n",
      "  'poolcnt' 'poolsizesum' 'pooltypeid10' 'pooltypeid2' 'pooltypeid7'\n",
      "  'propertycountylandusecode' 'propertylandusetypeid'\n",
      "  'propertyzoningdesc' 'rawcensustractandblock' 'regionidcity'\n",
      "  'regionidcounty' 'regionidneighborhood' 'regionidzip' 'roomcnt'\n",
      "  'storytypeid' 'threequarterbathnbr' 'typeconstructiontypeid' 'unitcnt'\n",
      "  'yardbuildingsqft17' 'yardbuildingsqft26' 'yearbuilt' 'numberofstories'\n",
      "  'fireplaceflag' 'structuretaxvaluedollarcnt' 'taxvaluedollarcnt'\n",
      "  'assessmentyear' 'landtaxvaluedollarcnt' 'taxamount'\n",
      "  'taxdelinquencyflag' 'taxdelinquencyyear' 'censustractandblock'\n",
      "  'logerror' 'transactiondate' 'airconditioningdesc'\n",
      "  'architecturalstyledesc' 'buildingclassdesc' 'heatingorsystemdesc'\n",
      "  'propertylandusedesc' 'storydesc' 'typeconstructiondesc']]\n",
      "[['id' 'parcelid' 'airconditioningtypeid' 'architecturalstyletypeid'\n",
      "  'basementsqft' 'bathroomcnt' 'bedroomcnt' 'buildingclasstypeid'\n",
      "  'buildingqualitytypeid' 'calculatedbathnbr' 'decktypeid'\n",
      "  'finishedfloor1squarefeet' 'calculatedfinishedsquarefeet'\n",
      "  'finishedsquarefeet12' 'finishedsquarefeet13' 'finishedsquarefeet15'\n",
      "  'finishedsquarefeet50' 'finishedsquarefeet6' 'fips' 'fireplacecnt'\n",
      "  'fullbathcnt' 'garagecarcnt' 'garagetotalsqft' 'hashottuborspa'\n",
      "  'heatingorsystemtypeid' 'latitude' 'longitude' 'lotsizesquarefeet'\n",
      "  'poolcnt' 'poolsizesum' 'pooltypeid10' 'pooltypeid2' 'pooltypeid7'\n",
      "  'propertycountylandusecode' 'propertylandusetypeid'\n",
      "  'propertyzoningdesc' 'rawcensustractandblock' 'regionidcity'\n",
      "  'regionidcounty' 'regionidneighborhood' 'regionidzip' 'roomcnt'\n",
      "  'storytypeid' 'threequarterbathnbr' 'typeconstructiontypeid' 'unitcnt'\n",
      "  'yardbuildingsqft17' 'yardbuildingsqft26' 'yearbuilt' 'numberofstories'\n",
      "  'fireplaceflag' 'structuretaxvaluedollarcnt' 'taxvaluedollarcnt'\n",
      "  'assessmentyear' 'landtaxvaluedollarcnt' 'taxamount'\n",
      "  'taxdelinquencyflag' 'taxdelinquencyyear' 'censustractandblock'\n",
      "  'logerror' 'transactiondate' 'airconditioningdesc'\n",
      "  'architecturalstyledesc' 'buildingclassdesc' 'heatingorsystemdesc'\n",
      "  'propertylandusedesc' 'storydesc' 'typeconstructiondesc']]\n",
      "[['id' 'parcelid' 'airconditioningtypeid' 'architecturalstyletypeid'\n",
      "  'basementsqft' 'bathroomcnt' 'bedroomcnt' 'buildingclasstypeid'\n",
      "  'buildingqualitytypeid' 'calculatedbathnbr' 'decktypeid'\n",
      "  'finishedfloor1squarefeet' 'calculatedfinishedsquarefeet'\n",
      "  'finishedsquarefeet12' 'finishedsquarefeet13' 'finishedsquarefeet15'\n",
      "  'finishedsquarefeet50' 'finishedsquarefeet6' 'fips' 'fireplacecnt'\n",
      "  'fullbathcnt' 'garagecarcnt' 'garagetotalsqft' 'hashottuborspa'\n",
      "  'heatingorsystemtypeid' 'latitude' 'longitude' 'lotsizesquarefeet'\n",
      "  'poolcnt' 'poolsizesum' 'pooltypeid10' 'pooltypeid2' 'pooltypeid7'\n",
      "  'propertycountylandusecode' 'propertylandusetypeid'\n",
      "  'propertyzoningdesc' 'rawcensustractandblock' 'regionidcity'\n",
      "  'regionidcounty' 'regionidneighborhood' 'regionidzip' 'roomcnt'\n",
      "  'storytypeid' 'threequarterbathnbr' 'typeconstructiontypeid' 'unitcnt'\n",
      "  'yardbuildingsqft17' 'yardbuildingsqft26' 'yearbuilt' 'numberofstories'\n",
      "  'fireplaceflag' 'structuretaxvaluedollarcnt' 'taxvaluedollarcnt'\n",
      "  'assessmentyear' 'landtaxvaluedollarcnt' 'taxamount'\n",
      "  'taxdelinquencyflag' 'taxdelinquencyyear' 'censustractandblock'\n",
      "  'logerror' 'transactiondate' 'airconditioningdesc'\n",
      "  'architecturalstyledesc' 'buildingclassdesc' 'heatingorsystemdesc'\n",
      "  'propertylandusedesc' 'storydesc' 'typeconstructiondesc']]\n",
      "[['id' 'parcelid' 'airconditioningtypeid' 'architecturalstyletypeid'\n",
      "  'basementsqft' 'bathroomcnt' 'bedroomcnt' 'buildingclasstypeid'\n",
      "  'buildingqualitytypeid' 'calculatedbathnbr' 'decktypeid'\n",
      "  'finishedfloor1squarefeet' 'calculatedfinishedsquarefeet'\n",
      "  'finishedsquarefeet12' 'finishedsquarefeet13' 'finishedsquarefeet15'\n",
      "  'finishedsquarefeet50' 'finishedsquarefeet6' 'fips' 'fireplacecnt'\n",
      "  'fullbathcnt' 'garagecarcnt' 'garagetotalsqft' 'hashottuborspa'\n",
      "  'heatingorsystemtypeid' 'latitude' 'longitude' 'lotsizesquarefeet'\n",
      "  'poolcnt' 'poolsizesum' 'pooltypeid10' 'pooltypeid2' 'pooltypeid7'\n",
      "  'propertycountylandusecode' 'propertylandusetypeid'\n",
      "  'propertyzoningdesc' 'rawcensustractandblock' 'regionidcity'\n",
      "  'regionidcounty' 'regionidneighborhood' 'regionidzip' 'roomcnt'\n",
      "  'storytypeid' 'threequarterbathnbr' 'typeconstructiontypeid' 'unitcnt'\n",
      "  'yardbuildingsqft17' 'yardbuildingsqft26' 'yearbuilt' 'numberofstories'\n",
      "  'fireplaceflag' 'structuretaxvaluedollarcnt' 'taxvaluedollarcnt'\n",
      "  'assessmentyear' 'landtaxvaluedollarcnt' 'taxamount'\n",
      "  'taxdelinquencyflag' 'taxdelinquencyyear' 'censustractandblock'\n",
      "  'logerror' 'transactiondate' 'airconditioningdesc'\n",
      "  'architecturalstyledesc' 'buildingclassdesc' 'heatingorsystemdesc'\n",
      "  'propertylandusedesc' 'storydesc' 'typeconstructiondesc']]\n",
      "[['id' 'parcelid' 'airconditioningtypeid' 'architecturalstyletypeid'\n",
      "  'basementsqft' 'bathroomcnt' 'bedroomcnt' 'buildingclasstypeid'\n",
      "  'buildingqualitytypeid' 'calculatedbathnbr' 'decktypeid'\n",
      "  'finishedfloor1squarefeet' 'calculatedfinishedsquarefeet'\n",
      "  'finishedsquarefeet12' 'finishedsquarefeet13' 'finishedsquarefeet15'\n",
      "  'finishedsquarefeet50' 'finishedsquarefeet6' 'fips' 'fireplacecnt'\n",
      "  'fullbathcnt' 'garagecarcnt' 'garagetotalsqft' 'hashottuborspa'\n",
      "  'heatingorsystemtypeid' 'latitude' 'longitude' 'lotsizesquarefeet'\n",
      "  'poolcnt' 'poolsizesum' 'pooltypeid10' 'pooltypeid2' 'pooltypeid7'\n",
      "  'propertycountylandusecode' 'propertylandusetypeid'\n",
      "  'propertyzoningdesc' 'rawcensustractandblock' 'regionidcity'\n",
      "  'regionidcounty' 'regionidneighborhood' 'regionidzip' 'roomcnt'\n",
      "  'storytypeid' 'threequarterbathnbr' 'typeconstructiontypeid' 'unitcnt'\n",
      "  'yardbuildingsqft17' 'yardbuildingsqft26' 'yearbuilt' 'numberofstories'\n",
      "  'fireplaceflag' 'structuretaxvaluedollarcnt' 'taxvaluedollarcnt'\n",
      "  'assessmentyear' 'landtaxvaluedollarcnt' 'taxamount'\n",
      "  'taxdelinquencyflag' 'taxdelinquencyyear' 'censustractandblock'\n",
      "  'logerror' 'transactiondate' 'airconditioningdesc'\n",
      "  'architecturalstyledesc' 'buildingclassdesc' 'heatingorsystemdesc'\n",
      "  'propertylandusedesc' 'storydesc' 'typeconstructiondesc']]\n",
      "[['id' 'parcelid' 'airconditioningtypeid' 'architecturalstyletypeid'\n",
      "  'basementsqft' 'bathroomcnt' 'bedroomcnt' 'buildingclasstypeid'\n",
      "  'buildingqualitytypeid' 'calculatedbathnbr' 'decktypeid'\n",
      "  'finishedfloor1squarefeet' 'calculatedfinishedsquarefeet'\n",
      "  'finishedsquarefeet12' 'finishedsquarefeet13' 'finishedsquarefeet15'\n",
      "  'finishedsquarefeet50' 'finishedsquarefeet6' 'fips' 'fireplacecnt'\n",
      "  'fullbathcnt' 'garagecarcnt' 'garagetotalsqft' 'hashottuborspa'\n",
      "  'heatingorsystemtypeid' 'latitude' 'longitude' 'lotsizesquarefeet'\n",
      "  'poolcnt' 'poolsizesum' 'pooltypeid10' 'pooltypeid2' 'pooltypeid7'\n",
      "  'propertycountylandusecode' 'propertylandusetypeid'\n",
      "  'propertyzoningdesc' 'rawcensustractandblock' 'regionidcity'\n",
      "  'regionidcounty' 'regionidneighborhood' 'regionidzip' 'roomcnt'\n",
      "  'storytypeid' 'threequarterbathnbr' 'typeconstructiontypeid' 'unitcnt'\n",
      "  'yardbuildingsqft17' 'yardbuildingsqft26' 'yearbuilt' 'numberofstories'\n",
      "  'fireplaceflag' 'structuretaxvaluedollarcnt' 'taxvaluedollarcnt'\n",
      "  'assessmentyear' 'landtaxvaluedollarcnt' 'taxamount'\n",
      "  'taxdelinquencyflag' 'taxdelinquencyyear' 'censustractandblock'\n",
      "  'logerror' 'transactiondate' 'airconditioningdesc'\n",
      "  'architecturalstyledesc' 'buildingclassdesc' 'heatingorsystemdesc'\n",
      "  'propertylandusedesc' 'storydesc' 'typeconstructiondesc']]\n",
      "[['id' 'parcelid' 'airconditioningtypeid' 'architecturalstyletypeid'\n",
      "  'basementsqft' 'bathroomcnt' 'bedroomcnt' 'buildingclasstypeid'\n",
      "  'buildingqualitytypeid' 'calculatedbathnbr' 'decktypeid'\n",
      "  'finishedfloor1squarefeet' 'calculatedfinishedsquarefeet'\n",
      "  'finishedsquarefeet12' 'finishedsquarefeet13' 'finishedsquarefeet15'\n",
      "  'finishedsquarefeet50' 'finishedsquarefeet6' 'fips' 'fireplacecnt'\n",
      "  'fullbathcnt' 'garagecarcnt' 'garagetotalsqft' 'hashottuborspa'\n",
      "  'heatingorsystemtypeid' 'latitude' 'longitude' 'lotsizesquarefeet'\n",
      "  'poolcnt' 'poolsizesum' 'pooltypeid10' 'pooltypeid2' 'pooltypeid7'\n",
      "  'propertycountylandusecode' 'propertylandusetypeid'\n",
      "  'propertyzoningdesc' 'rawcensustractandblock' 'regionidcity'\n",
      "  'regionidcounty' 'regionidneighborhood' 'regionidzip' 'roomcnt'\n",
      "  'storytypeid' 'threequarterbathnbr' 'typeconstructiontypeid' 'unitcnt'\n",
      "  'yardbuildingsqft17' 'yardbuildingsqft26' 'yearbuilt' 'numberofstories'\n",
      "  'fireplaceflag' 'structuretaxvaluedollarcnt' 'taxvaluedollarcnt'\n",
      "  'assessmentyear' 'landtaxvaluedollarcnt' 'taxamount'\n",
      "  'taxdelinquencyflag' 'taxdelinquencyyear' 'censustractandblock'\n",
      "  'logerror' 'transactiondate' 'airconditioningdesc'\n",
      "  'architecturalstyledesc' 'buildingclassdesc' 'heatingorsystemdesc'\n",
      "  'propertylandusedesc' 'storydesc' 'typeconstructiondesc']]\n",
      "[]\n",
      "[]\n",
      "[]\n",
      "[['id' 'parcelid' 'airconditioningtypeid' 'architecturalstyletypeid'\n",
      "  'basementsqft' 'bathroomcnt' 'bedroomcnt' 'buildingclasstypeid'\n",
      "  'buildingqualitytypeid' 'calculatedbathnbr' 'decktypeid'\n",
      "  'finishedfloor1squarefeet' 'calculatedfinishedsquarefeet'\n",
      "  'finishedsquarefeet12' 'finishedsquarefeet13' 'finishedsquarefeet15'\n",
      "  'finishedsquarefeet50' 'finishedsquarefeet6' 'fips' 'fireplacecnt'\n",
      "  'fullbathcnt' 'garagecarcnt' 'garagetotalsqft' 'hashottuborspa'\n",
      "  'heatingorsystemtypeid' 'latitude' 'longitude' 'lotsizesquarefeet'\n",
      "  'poolcnt' 'poolsizesum' 'pooltypeid10' 'pooltypeid2' 'pooltypeid7'\n",
      "  'propertycountylandusecode' 'propertylandusetypeid'\n",
      "  'propertyzoningdesc' 'rawcensustractandblock' 'regionidcity'\n",
      "  'regionidcounty' 'regionidneighborhood' 'regionidzip' 'roomcnt'\n",
      "  'storytypeid' 'threequarterbathnbr' 'typeconstructiontypeid' 'unitcnt'\n",
      "  'yardbuildingsqft17' 'yardbuildingsqft26' 'yearbuilt' 'numberofstories'\n",
      "  'fireplaceflag' 'structuretaxvaluedollarcnt' 'taxvaluedollarcnt'\n",
      "  'assessmentyear' 'landtaxvaluedollarcnt' 'taxamount'\n",
      "  'taxdelinquencyflag' 'taxdelinquencyyear' 'censustractandblock'\n",
      "  'logerror' 'transactiondate' 'airconditioningdesc'\n",
      "  'architecturalstyledesc' 'buildingclassdesc' 'heatingorsystemdesc'\n",
      "  'propertylandusedesc' 'storydesc' 'typeconstructiondesc']]\n",
      "[]\n",
      "[]\n",
      "[['id' 'parcelid' 'airconditioningtypeid' 'architecturalstyletypeid'\n",
      "  'basementsqft' 'bathroomcnt' 'bedroomcnt' 'buildingclasstypeid'\n",
      "  'buildingqualitytypeid' 'calculatedbathnbr' 'decktypeid'\n",
      "  'finishedfloor1squarefeet' 'calculatedfinishedsquarefeet'\n",
      "  'finishedsquarefeet12' 'finishedsquarefeet13' 'finishedsquarefeet15'\n",
      "  'finishedsquarefeet50' 'finishedsquarefeet6' 'fips' 'fireplacecnt'\n",
      "  'fullbathcnt' 'garagecarcnt' 'garagetotalsqft' 'hashottuborspa'\n",
      "  'heatingorsystemtypeid' 'latitude' 'longitude' 'lotsizesquarefeet'\n",
      "  'poolcnt' 'poolsizesum' 'pooltypeid10' 'pooltypeid2' 'pooltypeid7'\n",
      "  'propertycountylandusecode' 'propertylandusetypeid'\n",
      "  'propertyzoningdesc' 'rawcensustractandblock' 'regionidcity'\n",
      "  'regionidcounty' 'regionidneighborhood' 'regionidzip' 'roomcnt'\n",
      "  'storytypeid' 'threequarterbathnbr' 'typeconstructiontypeid' 'unitcnt'\n",
      "  'yardbuildingsqft17' 'yardbuildingsqft26' 'yearbuilt' 'numberofstories'\n",
      "  'fireplaceflag' 'structuretaxvaluedollarcnt' 'taxvaluedollarcnt'\n",
      "  'assessmentyear' 'landtaxvaluedollarcnt' 'taxamount'\n",
      "  'taxdelinquencyflag' 'taxdelinquencyyear' 'censustractandblock'\n",
      "  'logerror' 'transactiondate' 'airconditioningdesc'\n",
      "  'architecturalstyledesc' 'buildingclassdesc' 'heatingorsystemdesc'\n",
      "  'propertylandusedesc' 'storydesc' 'typeconstructiondesc']]\n",
      "[]\n",
      "[]\n",
      "[['id' 'parcelid' 'airconditioningtypeid' 'architecturalstyletypeid'\n",
      "  'basementsqft' 'bathroomcnt' 'bedroomcnt' 'buildingclasstypeid'\n",
      "  'buildingqualitytypeid' 'calculatedbathnbr' 'decktypeid'\n",
      "  'finishedfloor1squarefeet' 'calculatedfinishedsquarefeet'\n",
      "  'finishedsquarefeet12' 'finishedsquarefeet13' 'finishedsquarefeet15'\n",
      "  'finishedsquarefeet50' 'finishedsquarefeet6' 'fips' 'fireplacecnt'\n",
      "  'fullbathcnt' 'garagecarcnt' 'garagetotalsqft' 'hashottuborspa'\n",
      "  'heatingorsystemtypeid' 'latitude' 'longitude' 'lotsizesquarefeet'\n",
      "  'poolcnt' 'poolsizesum' 'pooltypeid10' 'pooltypeid2' 'pooltypeid7'\n",
      "  'propertycountylandusecode' 'propertylandusetypeid'\n",
      "  'propertyzoningdesc' 'rawcensustractandblock' 'regionidcity'\n",
      "  'regionidcounty' 'regionidneighborhood' 'regionidzip' 'roomcnt'\n",
      "  'storytypeid' 'threequarterbathnbr' 'typeconstructiontypeid' 'unitcnt'\n",
      "  'yardbuildingsqft17' 'yardbuildingsqft26' 'yearbuilt' 'numberofstories'\n",
      "  'fireplaceflag' 'structuretaxvaluedollarcnt' 'taxvaluedollarcnt'\n",
      "  'assessmentyear' 'landtaxvaluedollarcnt' 'taxamount'\n",
      "  'taxdelinquencyflag' 'taxdelinquencyyear' 'censustractandblock'\n",
      "  'logerror' 'transactiondate' 'airconditioningdesc'\n",
      "  'architecturalstyledesc' 'buildingclassdesc' 'heatingorsystemdesc'\n",
      "  'propertylandusedesc' 'storydesc' 'typeconstructiondesc']]\n",
      "[['id' 'parcelid' 'airconditioningtypeid' 'architecturalstyletypeid'\n",
      "  'basementsqft' 'bathroomcnt' 'bedroomcnt' 'buildingclasstypeid'\n",
      "  'buildingqualitytypeid' 'calculatedbathnbr' 'decktypeid'\n",
      "  'finishedfloor1squarefeet' 'calculatedfinishedsquarefeet'\n",
      "  'finishedsquarefeet12' 'finishedsquarefeet13' 'finishedsquarefeet15'\n",
      "  'finishedsquarefeet50' 'finishedsquarefeet6' 'fips' 'fireplacecnt'\n",
      "  'fullbathcnt' 'garagecarcnt' 'garagetotalsqft' 'hashottuborspa'\n",
      "  'heatingorsystemtypeid' 'latitude' 'longitude' 'lotsizesquarefeet'\n",
      "  'poolcnt' 'poolsizesum' 'pooltypeid10' 'pooltypeid2' 'pooltypeid7'\n",
      "  'propertycountylandusecode' 'propertylandusetypeid'\n",
      "  'propertyzoningdesc' 'rawcensustractandblock' 'regionidcity'\n",
      "  'regionidcounty' 'regionidneighborhood' 'regionidzip' 'roomcnt'\n",
      "  'storytypeid' 'threequarterbathnbr' 'typeconstructiontypeid' 'unitcnt'\n",
      "  'yardbuildingsqft17' 'yardbuildingsqft26' 'yearbuilt' 'numberofstories'\n",
      "  'fireplaceflag' 'structuretaxvaluedollarcnt' 'taxvaluedollarcnt'\n",
      "  'assessmentyear' 'landtaxvaluedollarcnt' 'taxamount'\n",
      "  'taxdelinquencyflag' 'taxdelinquencyyear' 'censustractandblock'\n",
      "  'logerror' 'transactiondate' 'airconditioningdesc'\n",
      "  'architecturalstyledesc' 'buildingclassdesc' 'heatingorsystemdesc'\n",
      "  'propertylandusedesc' 'storydesc' 'typeconstructiondesc']]\n",
      "[['id' 'parcelid' 'airconditioningtypeid' 'architecturalstyletypeid'\n",
      "  'basementsqft' 'bathroomcnt' 'bedroomcnt' 'buildingclasstypeid'\n",
      "  'buildingqualitytypeid' 'calculatedbathnbr' 'decktypeid'\n",
      "  'finishedfloor1squarefeet' 'calculatedfinishedsquarefeet'\n",
      "  'finishedsquarefeet12' 'finishedsquarefeet13' 'finishedsquarefeet15'\n",
      "  'finishedsquarefeet50' 'finishedsquarefeet6' 'fips' 'fireplacecnt'\n",
      "  'fullbathcnt' 'garagecarcnt' 'garagetotalsqft' 'hashottuborspa'\n",
      "  'heatingorsystemtypeid' 'latitude' 'longitude' 'lotsizesquarefeet'\n",
      "  'poolcnt' 'poolsizesum' 'pooltypeid10' 'pooltypeid2' 'pooltypeid7'\n",
      "  'propertycountylandusecode' 'propertylandusetypeid'\n",
      "  'propertyzoningdesc' 'rawcensustractandblock' 'regionidcity'\n",
      "  'regionidcounty' 'regionidneighborhood' 'regionidzip' 'roomcnt'\n",
      "  'storytypeid' 'threequarterbathnbr' 'typeconstructiontypeid' 'unitcnt'\n",
      "  'yardbuildingsqft17' 'yardbuildingsqft26' 'yearbuilt' 'numberofstories'\n",
      "  'fireplaceflag' 'structuretaxvaluedollarcnt' 'taxvaluedollarcnt'\n",
      "  'assessmentyear' 'landtaxvaluedollarcnt' 'taxamount'\n",
      "  'taxdelinquencyflag' 'taxdelinquencyyear' 'censustractandblock'\n",
      "  'logerror' 'transactiondate' 'airconditioningdesc'\n",
      "  'architecturalstyledesc' 'buildingclassdesc' 'heatingorsystemdesc'\n",
      "  'propertylandusedesc' 'storydesc' 'typeconstructiondesc']]\n",
      "[['id' 'parcelid' 'airconditioningtypeid' 'architecturalstyletypeid'\n",
      "  'basementsqft' 'bathroomcnt' 'bedroomcnt' 'buildingclasstypeid'\n",
      "  'buildingqualitytypeid' 'calculatedbathnbr' 'decktypeid'\n",
      "  'finishedfloor1squarefeet' 'calculatedfinishedsquarefeet'\n",
      "  'finishedsquarefeet12' 'finishedsquarefeet13' 'finishedsquarefeet15'\n",
      "  'finishedsquarefeet50' 'finishedsquarefeet6' 'fips' 'fireplacecnt'\n",
      "  'fullbathcnt' 'garagecarcnt' 'garagetotalsqft' 'hashottuborspa'\n",
      "  'heatingorsystemtypeid' 'latitude' 'longitude' 'lotsizesquarefeet'\n",
      "  'poolcnt' 'poolsizesum' 'pooltypeid10' 'pooltypeid2' 'pooltypeid7'\n",
      "  'propertycountylandusecode' 'propertylandusetypeid'\n",
      "  'propertyzoningdesc' 'rawcensustractandblock' 'regionidcity'\n",
      "  'regionidcounty' 'regionidneighborhood' 'regionidzip' 'roomcnt'\n",
      "  'storytypeid' 'threequarterbathnbr' 'typeconstructiontypeid' 'unitcnt'\n",
      "  'yardbuildingsqft17' 'yardbuildingsqft26' 'yearbuilt' 'numberofstories'\n",
      "  'fireplaceflag' 'structuretaxvaluedollarcnt' 'taxvaluedollarcnt'\n",
      "  'assessmentyear' 'landtaxvaluedollarcnt' 'taxamount'\n",
      "  'taxdelinquencyflag' 'taxdelinquencyyear' 'censustractandblock'\n",
      "  'logerror' 'transactiondate' 'airconditioningdesc'\n",
      "  'architecturalstyledesc' 'buildingclassdesc' 'heatingorsystemdesc'\n",
      "  'propertylandusedesc' 'storydesc' 'typeconstructiondesc']]\n",
      "[['id' 'parcelid' 'airconditioningtypeid' 'architecturalstyletypeid'\n",
      "  'basementsqft' 'bathroomcnt' 'bedroomcnt' 'buildingclasstypeid'\n",
      "  'buildingqualitytypeid' 'calculatedbathnbr' 'decktypeid'\n",
      "  'finishedfloor1squarefeet' 'calculatedfinishedsquarefeet'\n",
      "  'finishedsquarefeet12' 'finishedsquarefeet13' 'finishedsquarefeet15'\n",
      "  'finishedsquarefeet50' 'finishedsquarefeet6' 'fips' 'fireplacecnt'\n",
      "  'fullbathcnt' 'garagecarcnt' 'garagetotalsqft' 'hashottuborspa'\n",
      "  'heatingorsystemtypeid' 'latitude' 'longitude' 'lotsizesquarefeet'\n",
      "  'poolcnt' 'poolsizesum' 'pooltypeid10' 'pooltypeid2' 'pooltypeid7'\n",
      "  'propertycountylandusecode' 'propertylandusetypeid'\n",
      "  'propertyzoningdesc' 'rawcensustractandblock' 'regionidcity'\n",
      "  'regionidcounty' 'regionidneighborhood' 'regionidzip' 'roomcnt'\n",
      "  'storytypeid' 'threequarterbathnbr' 'typeconstructiontypeid' 'unitcnt'\n",
      "  'yardbuildingsqft17' 'yardbuildingsqft26' 'yearbuilt' 'numberofstories'\n",
      "  'fireplaceflag' 'structuretaxvaluedollarcnt' 'taxvaluedollarcnt'\n",
      "  'assessmentyear' 'landtaxvaluedollarcnt' 'taxamount'\n",
      "  'taxdelinquencyflag' 'taxdelinquencyyear' 'censustractandblock'\n",
      "  'logerror' 'transactiondate' 'airconditioningdesc'\n",
      "  'architecturalstyledesc' 'buildingclassdesc' 'heatingorsystemdesc'\n",
      "  'propertylandusedesc' 'storydesc' 'typeconstructiondesc']]\n",
      "[]\n",
      "[]\n",
      "[['id' 'parcelid' 'airconditioningtypeid' 'architecturalstyletypeid'\n",
      "  'basementsqft' 'bathroomcnt' 'bedroomcnt' 'buildingclasstypeid'\n",
      "  'buildingqualitytypeid' 'calculatedbathnbr' 'decktypeid'\n",
      "  'finishedfloor1squarefeet' 'calculatedfinishedsquarefeet'\n",
      "  'finishedsquarefeet12' 'finishedsquarefeet13' 'finishedsquarefeet15'\n",
      "  'finishedsquarefeet50' 'finishedsquarefeet6' 'fips' 'fireplacecnt'\n",
      "  'fullbathcnt' 'garagecarcnt' 'garagetotalsqft' 'hashottuborspa'\n",
      "  'heatingorsystemtypeid' 'latitude' 'longitude' 'lotsizesquarefeet'\n",
      "  'poolcnt' 'poolsizesum' 'pooltypeid10' 'pooltypeid2' 'pooltypeid7'\n",
      "  'propertycountylandusecode' 'propertylandusetypeid'\n",
      "  'propertyzoningdesc' 'rawcensustractandblock' 'regionidcity'\n",
      "  'regionidcounty' 'regionidneighborhood' 'regionidzip' 'roomcnt'\n",
      "  'storytypeid' 'threequarterbathnbr' 'typeconstructiontypeid' 'unitcnt'\n",
      "  'yardbuildingsqft17' 'yardbuildingsqft26' 'yearbuilt' 'numberofstories'\n",
      "  'fireplaceflag' 'structuretaxvaluedollarcnt' 'taxvaluedollarcnt'\n",
      "  'assessmentyear' 'landtaxvaluedollarcnt' 'taxamount'\n",
      "  'taxdelinquencyflag' 'taxdelinquencyyear' 'censustractandblock'\n",
      "  'logerror' 'transactiondate' 'airconditioningdesc'\n",
      "  'architecturalstyledesc' 'buildingclassdesc' 'heatingorsystemdesc'\n",
      "  'propertylandusedesc' 'storydesc' 'typeconstructiondesc']]\n",
      "[['id' 'parcelid' 'airconditioningtypeid' 'architecturalstyletypeid'\n",
      "  'basementsqft' 'bathroomcnt' 'bedroomcnt' 'buildingclasstypeid'\n",
      "  'buildingqualitytypeid' 'calculatedbathnbr' 'decktypeid'\n",
      "  'finishedfloor1squarefeet' 'calculatedfinishedsquarefeet'\n",
      "  'finishedsquarefeet12' 'finishedsquarefeet13' 'finishedsquarefeet15'\n",
      "  'finishedsquarefeet50' 'finishedsquarefeet6' 'fips' 'fireplacecnt'\n",
      "  'fullbathcnt' 'garagecarcnt' 'garagetotalsqft' 'hashottuborspa'\n",
      "  'heatingorsystemtypeid' 'latitude' 'longitude' 'lotsizesquarefeet'\n",
      "  'poolcnt' 'poolsizesum' 'pooltypeid10' 'pooltypeid2' 'pooltypeid7'\n",
      "  'propertycountylandusecode' 'propertylandusetypeid'\n",
      "  'propertyzoningdesc' 'rawcensustractandblock' 'regionidcity'\n",
      "  'regionidcounty' 'regionidneighborhood' 'regionidzip' 'roomcnt'\n",
      "  'storytypeid' 'threequarterbathnbr' 'typeconstructiontypeid' 'unitcnt'\n",
      "  'yardbuildingsqft17' 'yardbuildingsqft26' 'yearbuilt' 'numberofstories'\n",
      "  'fireplaceflag' 'structuretaxvaluedollarcnt' 'taxvaluedollarcnt'\n",
      "  'assessmentyear' 'landtaxvaluedollarcnt' 'taxamount'\n",
      "  'taxdelinquencyflag' 'taxdelinquencyyear' 'censustractandblock'\n",
      "  'logerror' 'transactiondate' 'airconditioningdesc'\n",
      "  'architecturalstyledesc' 'buildingclassdesc' 'heatingorsystemdesc'\n",
      "  'propertylandusedesc' 'storydesc' 'typeconstructiondesc']]\n",
      "[['id' 'parcelid' 'airconditioningtypeid' 'architecturalstyletypeid'\n",
      "  'basementsqft' 'bathroomcnt' 'bedroomcnt' 'buildingclasstypeid'\n",
      "  'buildingqualitytypeid' 'calculatedbathnbr' 'decktypeid'\n",
      "  'finishedfloor1squarefeet' 'calculatedfinishedsquarefeet'\n",
      "  'finishedsquarefeet12' 'finishedsquarefeet13' 'finishedsquarefeet15'\n",
      "  'finishedsquarefeet50' 'finishedsquarefeet6' 'fips' 'fireplacecnt'\n",
      "  'fullbathcnt' 'garagecarcnt' 'garagetotalsqft' 'hashottuborspa'\n",
      "  'heatingorsystemtypeid' 'latitude' 'longitude' 'lotsizesquarefeet'\n",
      "  'poolcnt' 'poolsizesum' 'pooltypeid10' 'pooltypeid2' 'pooltypeid7'\n",
      "  'propertycountylandusecode' 'propertylandusetypeid'\n",
      "  'propertyzoningdesc' 'rawcensustractandblock' 'regionidcity'\n",
      "  'regionidcounty' 'regionidneighborhood' 'regionidzip' 'roomcnt'\n",
      "  'storytypeid' 'threequarterbathnbr' 'typeconstructiontypeid' 'unitcnt'\n",
      "  'yardbuildingsqft17' 'yardbuildingsqft26' 'yearbuilt' 'numberofstories'\n",
      "  'fireplaceflag' 'structuretaxvaluedollarcnt' 'taxvaluedollarcnt'\n",
      "  'assessmentyear' 'landtaxvaluedollarcnt' 'taxamount'\n",
      "  'taxdelinquencyflag' 'taxdelinquencyyear' 'censustractandblock'\n",
      "  'logerror' 'transactiondate' 'airconditioningdesc'\n",
      "  'architecturalstyledesc' 'buildingclassdesc' 'heatingorsystemdesc'\n",
      "  'propertylandusedesc' 'storydesc' 'typeconstructiondesc']]\n",
      "[['id' 'parcelid' 'airconditioningtypeid' 'architecturalstyletypeid'\n",
      "  'basementsqft' 'bathroomcnt' 'bedroomcnt' 'buildingclasstypeid'\n",
      "  'buildingqualitytypeid' 'calculatedbathnbr' 'decktypeid'\n",
      "  'finishedfloor1squarefeet' 'calculatedfinishedsquarefeet'\n",
      "  'finishedsquarefeet12' 'finishedsquarefeet13' 'finishedsquarefeet15'\n",
      "  'finishedsquarefeet50' 'finishedsquarefeet6' 'fips' 'fireplacecnt'\n",
      "  'fullbathcnt' 'garagecarcnt' 'garagetotalsqft' 'hashottuborspa'\n",
      "  'heatingorsystemtypeid' 'latitude' 'longitude' 'lotsizesquarefeet'\n",
      "  'poolcnt' 'poolsizesum' 'pooltypeid10' 'pooltypeid2' 'pooltypeid7'\n",
      "  'propertycountylandusecode' 'propertylandusetypeid'\n",
      "  'propertyzoningdesc' 'rawcensustractandblock' 'regionidcity'\n",
      "  'regionidcounty' 'regionidneighborhood' 'regionidzip' 'roomcnt'\n",
      "  'storytypeid' 'threequarterbathnbr' 'typeconstructiontypeid' 'unitcnt'\n",
      "  'yardbuildingsqft17' 'yardbuildingsqft26' 'yearbuilt' 'numberofstories'\n",
      "  'fireplaceflag' 'structuretaxvaluedollarcnt' 'taxvaluedollarcnt'\n",
      "  'assessmentyear' 'landtaxvaluedollarcnt' 'taxamount'\n",
      "  'taxdelinquencyflag' 'taxdelinquencyyear' 'censustractandblock'\n",
      "  'logerror' 'transactiondate' 'airconditioningdesc'\n",
      "  'architecturalstyledesc' 'buildingclassdesc' 'heatingorsystemdesc'\n",
      "  'propertylandusedesc' 'storydesc' 'typeconstructiondesc']]\n",
      "[]\n",
      "[]\n",
      "[['id' 'parcelid' 'airconditioningtypeid' 'architecturalstyletypeid'\n",
      "  'basementsqft' 'bathroomcnt' 'bedroomcnt' 'buildingclasstypeid'\n",
      "  'buildingqualitytypeid' 'calculatedbathnbr' 'decktypeid'\n",
      "  'finishedfloor1squarefeet' 'calculatedfinishedsquarefeet'\n",
      "  'finishedsquarefeet12' 'finishedsquarefeet13' 'finishedsquarefeet15'\n",
      "  'finishedsquarefeet50' 'finishedsquarefeet6' 'fips' 'fireplacecnt'\n",
      "  'fullbathcnt' 'garagecarcnt' 'garagetotalsqft' 'hashottuborspa'\n",
      "  'heatingorsystemtypeid' 'latitude' 'longitude' 'lotsizesquarefeet'\n",
      "  'poolcnt' 'poolsizesum' 'pooltypeid10' 'pooltypeid2' 'pooltypeid7'\n",
      "  'propertycountylandusecode' 'propertylandusetypeid'\n",
      "  'propertyzoningdesc' 'rawcensustractandblock' 'regionidcity'\n",
      "  'regionidcounty' 'regionidneighborhood' 'regionidzip' 'roomcnt'\n",
      "  'storytypeid' 'threequarterbathnbr' 'typeconstructiontypeid' 'unitcnt'\n",
      "  'yardbuildingsqft17' 'yardbuildingsqft26' 'yearbuilt' 'numberofstories'\n",
      "  'fireplaceflag' 'structuretaxvaluedollarcnt' 'taxvaluedollarcnt'\n",
      "  'assessmentyear' 'landtaxvaluedollarcnt' 'taxamount'\n",
      "  'taxdelinquencyflag' 'taxdelinquencyyear' 'censustractandblock'\n",
      "  'logerror' 'transactiondate' 'airconditioningdesc'\n",
      "  'architecturalstyledesc' 'buildingclassdesc' 'heatingorsystemdesc'\n",
      "  'propertylandusedesc' 'storydesc' 'typeconstructiondesc']]\n",
      "[['id' 'parcelid' 'airconditioningtypeid' 'architecturalstyletypeid'\n",
      "  'basementsqft' 'bathroomcnt' 'bedroomcnt' 'buildingclasstypeid'\n",
      "  'buildingqualitytypeid' 'calculatedbathnbr' 'decktypeid'\n",
      "  'finishedfloor1squarefeet' 'calculatedfinishedsquarefeet'\n",
      "  'finishedsquarefeet12' 'finishedsquarefeet13' 'finishedsquarefeet15'\n",
      "  'finishedsquarefeet50' 'finishedsquarefeet6' 'fips' 'fireplacecnt'\n",
      "  'fullbathcnt' 'garagecarcnt' 'garagetotalsqft' 'hashottuborspa'\n",
      "  'heatingorsystemtypeid' 'latitude' 'longitude' 'lotsizesquarefeet'\n",
      "  'poolcnt' 'poolsizesum' 'pooltypeid10' 'pooltypeid2' 'pooltypeid7'\n",
      "  'propertycountylandusecode' 'propertylandusetypeid'\n",
      "  'propertyzoningdesc' 'rawcensustractandblock' 'regionidcity'\n",
      "  'regionidcounty' 'regionidneighborhood' 'regionidzip' 'roomcnt'\n",
      "  'storytypeid' 'threequarterbathnbr' 'typeconstructiontypeid' 'unitcnt'\n",
      "  'yardbuildingsqft17' 'yardbuildingsqft26' 'yearbuilt' 'numberofstories'\n",
      "  'fireplaceflag' 'structuretaxvaluedollarcnt' 'taxvaluedollarcnt'\n",
      "  'assessmentyear' 'landtaxvaluedollarcnt' 'taxamount'\n",
      "  'taxdelinquencyflag' 'taxdelinquencyyear' 'censustractandblock'\n",
      "  'logerror' 'transactiondate' 'airconditioningdesc'\n",
      "  'architecturalstyledesc' 'buildingclassdesc' 'heatingorsystemdesc'\n",
      "  'propertylandusedesc' 'storydesc' 'typeconstructiondesc']]\n",
      "[]\n",
      "[]\n"
     ]
    }
   ],
   "source": [
    "for x in df.columns:\n",
    "    print(df.columns[df[x].isnull().mean() <= .70])\n",
    "    "
   ]
  },
  {
   "cell_type": "markdown",
   "metadata": {},
   "source": [
    "# Outliers\n",
    "\n",
    "- Using IQR instead of z-score beacuase IQR works with median\n",
    "- if z-score is greater than 3 std above mean is 99.7% of data"
   ]
  },
  {
   "cell_type": "code",
   "execution_count": 167,
   "metadata": {},
   "outputs": [
    {
     "data": {
      "text/plain": [
       "id                              0\n",
       "parcelid                        0\n",
       "airconditioningtypeid       52573\n",
       "architecturalstyletypeid    77373\n",
       "basementsqft                77530\n",
       "                            ...  \n",
       "buildingclassdesc           77565\n",
       "heatingorsystemdesc         28008\n",
       "propertylandusedesc             0\n",
       "storydesc                   77530\n",
       "typeconstructiondesc        77357\n",
       "Length: 68, dtype: int64"
      ]
     },
     "execution_count": 167,
     "metadata": {},
     "output_type": "execute_result"
    }
   ],
   "source": [
    "from scipy.stats import zscore, iqr, percentileofscore, scoreatpercentile\n",
    "#drop null values\n",
    "df = wrangle_zillow.get_zillow_data()\n",
    "df.isnull().sum()"
   ]
  },
  {
   "cell_type": "code",
   "execution_count": 164,
   "metadata": {},
   "outputs": [
    {
     "data": {
      "text/html": [
       "<div>\n",
       "<style scoped>\n",
       "    .dataframe tbody tr th:only-of-type {\n",
       "        vertical-align: middle;\n",
       "    }\n",
       "\n",
       "    .dataframe tbody tr th {\n",
       "        vertical-align: top;\n",
       "    }\n",
       "\n",
       "    .dataframe thead th {\n",
       "        text-align: right;\n",
       "    }\n",
       "</style>\n",
       "<table border=\"1\" class=\"dataframe\">\n",
       "  <thead>\n",
       "    <tr style=\"text-align: right;\">\n",
       "      <th></th>\n",
       "      <th>id</th>\n",
       "      <th>parcelid</th>\n",
       "      <th>airconditioningtypeid</th>\n",
       "      <th>architecturalstyletypeid</th>\n",
       "      <th>basementsqft</th>\n",
       "      <th>bathroomcnt</th>\n",
       "      <th>bedroomcnt</th>\n",
       "      <th>buildingclasstypeid</th>\n",
       "      <th>buildingqualitytypeid</th>\n",
       "      <th>calculatedbathnbr</th>\n",
       "      <th>...</th>\n",
       "      <th>censustractandblock</th>\n",
       "      <th>logerror</th>\n",
       "      <th>transactiondate</th>\n",
       "      <th>airconditioningdesc</th>\n",
       "      <th>architecturalstyledesc</th>\n",
       "      <th>buildingclassdesc</th>\n",
       "      <th>heatingorsystemdesc</th>\n",
       "      <th>propertylandusedesc</th>\n",
       "      <th>storydesc</th>\n",
       "      <th>typeconstructiondesc</th>\n",
       "    </tr>\n",
       "  </thead>\n",
       "  <tbody>\n",
       "  </tbody>\n",
       "</table>\n",
       "<p>0 rows × 68 columns</p>\n",
       "</div>"
      ],
      "text/plain": [
       "Empty DataFrame\n",
       "Columns: [id, parcelid, airconditioningtypeid, architecturalstyletypeid, basementsqft, bathroomcnt, bedroomcnt, buildingclasstypeid, buildingqualitytypeid, calculatedbathnbr, decktypeid, finishedfloor1squarefeet, calculatedfinishedsquarefeet, finishedsquarefeet12, finishedsquarefeet13, finishedsquarefeet15, finishedsquarefeet50, finishedsquarefeet6, fips, fireplacecnt, fullbathcnt, garagecarcnt, garagetotalsqft, hashottuborspa, heatingorsystemtypeid, latitude, longitude, lotsizesquarefeet, poolcnt, poolsizesum, pooltypeid10, pooltypeid2, pooltypeid7, propertycountylandusecode, propertylandusetypeid, propertyzoningdesc, rawcensustractandblock, regionidcity, regionidcounty, regionidneighborhood, regionidzip, roomcnt, storytypeid, threequarterbathnbr, typeconstructiontypeid, unitcnt, yardbuildingsqft17, yardbuildingsqft26, yearbuilt, numberofstories, fireplaceflag, structuretaxvaluedollarcnt, taxvaluedollarcnt, assessmentyear, landtaxvaluedollarcnt, taxamount, taxdelinquencyflag, taxdelinquencyyear, censustractandblock, logerror, transactiondate, airconditioningdesc, architecturalstyledesc, buildingclassdesc, heatingorsystemdesc, propertylandusedesc, storydesc, typeconstructiondesc]\n",
       "Index: []\n",
       "\n",
       "[0 rows x 68 columns]"
      ]
     },
     "execution_count": 164,
     "metadata": {},
     "output_type": "execute_result"
    }
   ],
   "source": [
    "#determine if the column is numeric\n",
    "list_of_float_columns = [x for x in df.columns if df[x].dtype == 'float64']\n",
    "list_of_float_columns\n"
   ]
  },
  {
   "cell_type": "code",
   "execution_count": 179,
   "metadata": {},
   "outputs": [
    {
     "name": "stdout",
     "output_type": "stream",
     "text": [
      " for column bathroomcnt: percentile at 1.5: 18.37329208558907\n",
      " for column bedroomcnt: percentile at 1.5: 49.84532095901005\n",
      " for column fips: percentile at 1.5: 0.0\n",
      " for column latitude: percentile at 1.5: 0.0\n",
      " for column longitude: percentile at 1.5: 100.0\n",
      " for column propertylandusetypeid: percentile at 1.5: 0.0\n",
      " for column rawcensustractandblock: percentile at 1.5: 0.0\n",
      " for column regionidcounty: percentile at 1.5: 34.65197215777262\n",
      " for column logerror: percentile at 1.5: 89.61588038154163\n"
     ]
    },
    {
     "data": {
      "text/plain": [
       "id                              0\n",
       "parcelid                        0\n",
       "airconditioningtypeid       52573\n",
       "architecturalstyletypeid    77373\n",
       "basementsqft                77530\n",
       "                            ...  \n",
       "buildingclassdesc           77565\n",
       "heatingorsystemdesc         28008\n",
       "propertylandusedesc             0\n",
       "storydesc                   77530\n",
       "typeconstructiondesc        77357\n",
       "Length: 68, dtype: int64"
      ]
     },
     "execution_count": 179,
     "metadata": {},
     "output_type": "execute_result"
    }
   ],
   "source": [
    "#determine how many outliers in the column based on IQR at  1.5, 3 and 5\n",
    "for x in list_of_float_columns:\n",
    "    df[x].dropna()\n",
    "    IQR_1_5 = iqr(df[x]) * 1.5\n",
    "    IQR_3 = iqr(df[x]) * 3\n",
    "    IQR_5 = iqr(df[x]) * 5\n",
    "    perc_IQR_1_5 = percentileofscore(df[x], score = IQR_1_5)\n",
    "    perc_IQR_3 = percentileofscore(df[x], score = IQR_1_5)\n",
    "    perc_IQR_1_5 = percentileofscore(df[x], score = IQR_1_5)\n",
    "    if IQR_3 > 0:\n",
    "#         print (f' for column {x}:  IQR*1.5: {IQR_1_5}, IQR_3: {IQR_3}, IQR_5: {IQR_5}')\n",
    "        print(f' for column {x}: percentile at 1.5: {perc_IQR_1_5}')\n",
    "df.isnull().sum()\n",
    "#determine percentage of column that is outside the IQR at 1.5, 3 and 5\n",
    "\n",
    "# 3 std above mean is 99.7% of data"
   ]
  },
  {
   "cell_type": "code",
   "execution_count": 141,
   "metadata": {},
   "outputs": [
    {
     "data": {
      "text/plain": [
       "Index(['id', 'parcelid', 'airconditioningtypeid', 'architecturalstyletypeid',\n",
       "       'basementsqft', 'bathroomcnt', 'bedroomcnt', 'buildingclasstypeid',\n",
       "       'buildingqualitytypeid', 'calculatedbathnbr', 'decktypeid',\n",
       "       'finishedfloor1squarefeet', 'calculatedfinishedsquarefeet',\n",
       "       'finishedsquarefeet12', 'finishedsquarefeet13', 'finishedsquarefeet15',\n",
       "       'finishedsquarefeet50', 'finishedsquarefeet6', 'fips', 'fireplacecnt',\n",
       "       'fullbathcnt', 'garagecarcnt', 'garagetotalsqft', 'hashottuborspa',\n",
       "       'heatingorsystemtypeid', 'latitude', 'longitude', 'lotsizesquarefeet',\n",
       "       'poolcnt', 'poolsizesum', 'pooltypeid10', 'pooltypeid2', 'pooltypeid7',\n",
       "       'propertycountylandusecode', 'propertylandusetypeid',\n",
       "       'propertyzoningdesc', 'rawcensustractandblock', 'regionidcity',\n",
       "       'regionidcounty', 'regionidneighborhood', 'regionidzip', 'roomcnt',\n",
       "       'storytypeid', 'threequarterbathnbr', 'typeconstructiontypeid',\n",
       "       'unitcnt', 'yardbuildingsqft17', 'yardbuildingsqft26', 'yearbuilt',\n",
       "       'numberofstories', 'fireplaceflag', 'structuretaxvaluedollarcnt',\n",
       "       'taxvaluedollarcnt', 'assessmentyear', 'landtaxvaluedollarcnt',\n",
       "       'taxamount', 'taxdelinquencyflag', 'taxdelinquencyyear',\n",
       "       'censustractandblock', 'logerror', 'transactiondate',\n",
       "       'airconditioningdesc', 'architecturalstyledesc', 'buildingclassdesc',\n",
       "       'heatingorsystemdesc', 'propertylandusedesc', 'storydesc',\n",
       "       'typeconstructiondesc'],\n",
       "      dtype='object')"
      ]
     },
     "execution_count": 141,
     "metadata": {},
     "output_type": "execute_result"
    }
   ],
   "source": [
    "df.columns"
   ]
  },
  {
   "cell_type": "code",
   "execution_count": null,
   "metadata": {},
   "outputs": [],
   "source": []
  }
 ],
 "metadata": {
  "kernelspec": {
   "display_name": "Python 3",
   "language": "python",
   "name": "python3"
  },
  "language_info": {
   "codemirror_mode": {
    "name": "ipython",
    "version": 3
   },
   "file_extension": ".py",
   "mimetype": "text/x-python",
   "name": "python",
   "nbconvert_exporter": "python",
   "pygments_lexer": "ipython3",
   "version": "3.7.4"
  }
 },
 "nbformat": 4,
 "nbformat_minor": 2
}
