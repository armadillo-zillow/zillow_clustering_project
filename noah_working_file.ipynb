{
 "cells": [
  {
   "cell_type": "code",
   "execution_count": 17,
   "metadata": {},
   "outputs": [],
   "source": [
    "import pandas as pd\n",
    "import numpy as np\n",
    "\n",
    "import wrangle_zillow\n",
    "\n",
    "import seaborn as sns\n",
    "import matplotlib.pyplot as plt\n",
    "\n",
    "\n",
    "\n",
    "from scipy.stats import zscore, iqr, percentileofscore, scoreatpercentile"
   ]
  },
  {
   "cell_type": "code",
   "execution_count": 18,
   "metadata": {},
   "outputs": [
    {
     "name": "stdout",
     "output_type": "stream",
     "text": [
      "(77580, 68)\n"
     ]
    }
   ],
   "source": [
    "df = wrangle_zillow.get_zillow_data()\n",
    "print(df.shape)"
   ]
  },
  {
   "cell_type": "code",
   "execution_count": 19,
   "metadata": {},
   "outputs": [
    {
     "name": "stdout",
     "output_type": "stream",
     "text": [
      "(52268, 68)\n"
     ]
    }
   ],
   "source": [
    "df = wrangle_zillow.get_single_unit_properties(df)\n",
    "print(df.shape)"
   ]
  },
  {
   "cell_type": "code",
   "execution_count": 20,
   "metadata": {},
   "outputs": [
    {
     "name": "stdout",
     "output_type": "stream",
     "text": [
      "(52268, 63)\n"
     ]
    }
   ],
   "source": [
    "df = wrangle_zillow.remove_columns(df, cols_to_remove=[\"id\", \"propertylandusetypeid\", \"heatingorsystemtypeid\", \"propertyzoningdesc\", \"finishedsquarefeet12\"])\n",
    "print(df.shape)"
   ]
  },
  {
   "cell_type": "code",
   "execution_count": 21,
   "metadata": {},
   "outputs": [
    {
     "name": "stdout",
     "output_type": "stream",
     "text": [
      "(52268, 29)\n"
     ]
    }
   ],
   "source": [
    "df = wrangle_zillow.handle_missing_values(df)\n",
    "print(df.shape)"
   ]
  },
  {
   "cell_type": "code",
   "execution_count": 22,
   "metadata": {},
   "outputs": [
    {
     "name": "stdout",
     "output_type": "stream",
     "text": [
      "(52268, 29)\n"
     ]
    }
   ],
   "source": [
    " df = wrangle_zillow.impute_missing_values(df)\n",
    "print(df.shape)"
   ]
  },
  {
   "cell_type": "code",
   "execution_count": 23,
   "metadata": {},
   "outputs": [
    {
     "data": {
      "text/plain": [
       "(52152, 29)"
      ]
     },
     "execution_count": 23,
     "metadata": {},
     "output_type": "execute_result"
    }
   ],
   "source": [
    "df = wrangle_zillow.remove_rows(df, cols_to_mask=[\"structuretaxvaluedollarcnt\", \"taxamount\", \"censustractandblock\", \"regionidzip\"])\n",
    "df.shape"
   ]
  },
  {
   "cell_type": "markdown",
   "metadata": {},
   "source": [
    "# Outliers\n",
    "\n",
    "> In the data science pipeline, we have determined that it is necessary to work with outliers after the data has been prepped but before imputation and scaling.  Issues that arose from working with outliers too early in the DS pipeline the same as working with unclean data\n",
    "    - missing values\n",
    "    - abundance of nan values\n",
    "    - dtype issues\n",
    "    \n",
    "    \n",
    "#### Squeeze vs Drop\n",
    "We decided to squeeze outliers rather than drop them.\n",
    "- Squeezing outliers does not affect the median or quantiles (quartiles for this project)\n",
    "- For clustering it is reasonable to expect that a 49 million dollar house is similar to a 10 million dollar house\n",
    "\n",
    "#### Median vs Mean \n",
    "In deciding between z-score (derived from mean) and IQR (derived from median).  We decided to work with **IQR**\n",
    "- IQR will not change after we squeeze data\n",
    "- As mean $\\Delta$  $\\therefore$   $\\sigma$   $\\therefore$  z-score will $\\Delta$ as values in the columns $\\Delta$ with squeezed data\n",
    "\n",
    "#### Percentiles... how many outliers is reasonable?\n",
    "Depending on the source what percintile of outliers is reasonable.  For normally distributed data: > 3 std above (or below) the mean should be less that .3% of the data.  Other sources mention that it is reasonable to have up to 10% of the data be considered outliers. \n",
    "- two new scipy.stats functions `percentileofscore`, `scoreatpercentile`\n",
    "- we used at threshhold of 90% of data before it could be considered an outlier\n",
    "- we used a threshold of 99.7% of data to stop increasing the IQR (from 1.5 to 3 to 5)\n",
    "\n",
    "#### What did we do?\n",
    "- determine if the column is numeric\n",
    "- determine IQR with hyperparameter of: [1.5, 3, 5] (per classroom resources)\n",
    "- determine # of outliers at each IQR\n",
    "- determine # of data in outlier set at each IQR\n",
    "- determine % of data in outlier set at each IQR\n",
    "- chose which hyperparameter to use for outliers based on above conditions\n",
    "- squeeze outliers to chosen IQR\n",
    "- created new columns squeeze_[column_name]_IQR_[iqr_value]\n",
    "\n",
    "#### Remaining work: visualizing outliers???"
   ]
  },
  {
   "cell_type": "code",
   "execution_count": 74,
   "metadata": {},
   "outputs": [
    {
     "data": {
      "text/plain": [
       "((52152, 29), parcelid                          0\n",
       " bathroomcnt                       0\n",
       " bedroomcnt                        0\n",
       " buildingqualitytypeid             0\n",
       " calculatedbathnbr                 0\n",
       " calculatedfinishedsquarefeet      0\n",
       " fips                              0\n",
       " fullbathcnt                       0\n",
       " latitude                          0\n",
       " longitude                         0\n",
       " lotsizesquarefeet                 0\n",
       " propertycountylandusecode         0\n",
       " rawcensustractandblock            0\n",
       " regionidcity                    999\n",
       " regionidcounty                    0\n",
       " regionidzip                       0\n",
       " roomcnt                           0\n",
       " unitcnt                           0\n",
       " yearbuilt                         0\n",
       " structuretaxvaluedollarcnt        0\n",
       " taxvaluedollarcnt                 0\n",
       " assessmentyear                    0\n",
       " landtaxvaluedollarcnt             0\n",
       " taxamount                         0\n",
       " censustractandblock               0\n",
       " logerror                          0\n",
       " transactiondate                   0\n",
       " heatingorsystemdesc               0\n",
       " propertylandusedesc               0\n",
       " dtype: int64)"
      ]
     },
     "execution_count": 74,
     "metadata": {},
     "output_type": "execute_result"
    }
   ],
   "source": [
    "from scipy.stats import zscore, iqr, percentileofscore, scoreatpercentile\n",
    "# investigate nulls\n",
    "df.shape, df.isnull().sum()"
   ]
  },
  {
   "cell_type": "code",
   "execution_count": 202,
   "metadata": {},
   "outputs": [],
   "source": [
    "#determine if the column is numeric\n",
    "def find_outlier_columns(df):\n",
    "    \"\"\"function takes in dataframe and returns list of column names:\n",
    "    columns that are floats\n",
    "    columns that are not categorical data values\n",
    "    \"\"\"\n",
    "    outlier_columns = [x for x in df.columns if df[x].dtype == 'float64']\n",
    "    outlier_columns.remove('longitude')\n",
    "    outlier_columns.remove('latitude')\n",
    "    for x in outlier_columns:\n",
    "        y = len(df[x].value_counts())\n",
    "        if y < 6:\n",
    "            outlier_columns.remove(x)\n",
    "        elif x.find('id') > 0:\n",
    "            outlier_columns.remove(x)\n",
    "    return outlier_columns\n"
   ]
  },
  {
   "cell_type": "code",
   "execution_count": 203,
   "metadata": {},
   "outputs": [
    {
     "data": {
      "text/plain": [
       "['bathroomcnt',\n",
       " 'bedroomcnt',\n",
       " 'calculatedbathnbr',\n",
       " 'calculatedfinishedsquarefeet',\n",
       " 'fullbathcnt',\n",
       " 'lotsizesquarefeet',\n",
       " 'rawcensustractandblock',\n",
       " 'regionidcounty',\n",
       " 'roomcnt',\n",
       " 'yearbuilt',\n",
       " 'structuretaxvaluedollarcnt',\n",
       " 'taxvaluedollarcnt',\n",
       " 'landtaxvaluedollarcnt',\n",
       " 'taxamount',\n",
       " 'censustractandblock',\n",
       " 'logerror']"
      ]
     },
     "execution_count": 203,
     "metadata": {},
     "output_type": "execute_result"
    }
   ],
   "source": [
    "outlier_columns = find_outlier_columns(df)\n",
    "outlier_columns\n"
   ]
  },
  {
   "cell_type": "code",
   "execution_count": 204,
   "metadata": {},
   "outputs": [
    {
     "name": "stdout",
     "output_type": "stream",
     "text": [
      "regionidcounty\n"
     ]
    }
   ],
   "source": [
    "for x in outlier_columns:\n",
    "    if x.find('id') > 0:\n",
    "        print(x)"
   ]
  },
  {
   "cell_type": "code",
   "execution_count": 205,
   "metadata": {},
   "outputs": [],
   "source": [
    "#determine how many outliers in the column based on IQR at  1.5, 3 and 5\n",
    "def choosing_IQR_value(df, list=outlier_columns):\n",
    "    \"\"\"function takes in a dataframe and a list of columns that will be searching for outliers\"\"\"\n",
    "    value_list = []\n",
    "    value_index_list = []\n",
    "    perc_list = []\n",
    "    for x in outlier_columns:\n",
    "        IQR_1_5 = iqr(df[x]) * 1.5\n",
    "        IQR_3 = iqr(df[x]) * 3\n",
    "        IQR_5 = iqr(df[x]) * 5\n",
    "        perc_IQR_1_5 = percentileofscore(df[x], score = IQR_1_5)\n",
    "        perc_IQR_3 = percentileofscore(df[x], score = IQR_3)\n",
    "        perc_IQR_5 = percentileofscore(df[x], score = IQR_5)\n",
    "#         print (f\"for {x}: IQRs are [{IQR_1_5 :.1f}, {IQR_3 :.1f}, {IQR_5 :.1f}], %s are [{perc_IQR_1_5 :.1f}, {perc_IQR_5 :.1f}, {perc_IQR_5 :.1f}]\")\n",
    "        if perc_IQR_1_5 > 99:\n",
    "            value_list.append(IQR_1_5)\n",
    "            value_index_list.append(\"1.5\")\n",
    "            perc_list.append(perc_IQR_1_5)\n",
    "        elif perc_IQR_3 > 99:\n",
    "            value_list.append(IQR_3)\n",
    "            value_index_list.append(\"3\")\n",
    "            perc_list.append(perc_IQR_3)\n",
    "        else:\n",
    "            value_list.append(IQR_5)\n",
    "            value_index_list.append(\"5\")\n",
    "            perc_list.append(perc_IQR_5)\n",
    "#         else:\n",
    "#             value_list.append(0)\n",
    "#             value_index_list.append(\"0\")\n",
    "#             perc_list.append(0)\n",
    "    return value_list, value_index_list, perc_list\n",
    "        \n",
    "#determine percentage of column that is outside the IQR at 1.5, 3 and 5\n",
    "\n",
    "# 3 std above mean is 99.7% of data"
   ]
  },
  {
   "cell_type": "code",
   "execution_count": 206,
   "metadata": {},
   "outputs": [],
   "source": [
    "value_list, value_index_list, perc_list = choosing_IQR_value(df, list=outlier_columns)"
   ]
  },
  {
   "cell_type": "code",
   "execution_count": 207,
   "metadata": {},
   "outputs": [
    {
     "data": {
      "text/html": [
       "<div>\n",
       "<style scoped>\n",
       "    .dataframe tbody tr th:only-of-type {\n",
       "        vertical-align: middle;\n",
       "    }\n",
       "\n",
       "    .dataframe tbody tr th {\n",
       "        vertical-align: top;\n",
       "    }\n",
       "\n",
       "    .dataframe thead th {\n",
       "        text-align: right;\n",
       "    }\n",
       "</style>\n",
       "<table border=\"1\" class=\"dataframe\">\n",
       "  <thead>\n",
       "    <tr style=\"text-align: right;\">\n",
       "      <th></th>\n",
       "      <th>0</th>\n",
       "      <th>1</th>\n",
       "      <th>2</th>\n",
       "      <th>3</th>\n",
       "    </tr>\n",
       "  </thead>\n",
       "  <tbody>\n",
       "    <tr>\n",
       "      <th>0</th>\n",
       "      <td>bathroomcnt</td>\n",
       "      <td>5</td>\n",
       "      <td>5</td>\n",
       "      <td>97.7681</td>\n",
       "    </tr>\n",
       "    <tr>\n",
       "      <th>1</th>\n",
       "      <td>bedroomcnt</td>\n",
       "      <td>5</td>\n",
       "      <td>5</td>\n",
       "      <td>94.7289</td>\n",
       "    </tr>\n",
       "    <tr>\n",
       "      <th>2</th>\n",
       "      <td>calculatedbathnbr</td>\n",
       "      <td>5</td>\n",
       "      <td>5</td>\n",
       "      <td>97.77</td>\n",
       "    </tr>\n",
       "    <tr>\n",
       "      <th>3</th>\n",
       "      <td>calculatedfinishedsquarefeet</td>\n",
       "      <td>5175</td>\n",
       "      <td>5</td>\n",
       "      <td>98.7364</td>\n",
       "    </tr>\n",
       "    <tr>\n",
       "      <th>4</th>\n",
       "      <td>fullbathcnt</td>\n",
       "      <td>5</td>\n",
       "      <td>5</td>\n",
       "      <td>98.0202</td>\n",
       "    </tr>\n",
       "    <tr>\n",
       "      <th>5</th>\n",
       "      <td>lotsizesquarefeet</td>\n",
       "      <td>15777.5</td>\n",
       "      <td>5</td>\n",
       "      <td>91.4366</td>\n",
       "    </tr>\n",
       "    <tr>\n",
       "      <th>6</th>\n",
       "      <td>rawcensustractandblock</td>\n",
       "      <td>1.08206e+06</td>\n",
       "      <td>5</td>\n",
       "      <td>0</td>\n",
       "    </tr>\n",
       "    <tr>\n",
       "      <th>7</th>\n",
       "      <td>regionidcounty</td>\n",
       "      <td>5445</td>\n",
       "      <td>3</td>\n",
       "      <td>100</td>\n",
       "    </tr>\n",
       "    <tr>\n",
       "      <th>8</th>\n",
       "      <td>roomcnt</td>\n",
       "      <td>15</td>\n",
       "      <td>3</td>\n",
       "      <td>100</td>\n",
       "    </tr>\n",
       "    <tr>\n",
       "      <th>9</th>\n",
       "      <td>yearbuilt</td>\n",
       "      <td>145</td>\n",
       "      <td>5</td>\n",
       "      <td>0</td>\n",
       "    </tr>\n",
       "    <tr>\n",
       "      <th>10</th>\n",
       "      <td>structuretaxvaluedollarcnt</td>\n",
       "      <td>741215</td>\n",
       "      <td>5</td>\n",
       "      <td>97.3136</td>\n",
       "    </tr>\n",
       "    <tr>\n",
       "      <th>11</th>\n",
       "      <td>taxvaluedollarcnt</td>\n",
       "      <td>2.11831e+06</td>\n",
       "      <td>5</td>\n",
       "      <td>97.6684</td>\n",
       "    </tr>\n",
       "    <tr>\n",
       "      <th>12</th>\n",
       "      <td>landtaxvaluedollarcnt</td>\n",
       "      <td>1.65981e+06</td>\n",
       "      <td>5</td>\n",
       "      <td>98.2398</td>\n",
       "    </tr>\n",
       "    <tr>\n",
       "      <th>13</th>\n",
       "      <td>taxamount</td>\n",
       "      <td>23504.3</td>\n",
       "      <td>5</td>\n",
       "      <td>97.4095</td>\n",
       "    </tr>\n",
       "    <tr>\n",
       "      <th>14</th>\n",
       "      <td>censustractandblock</td>\n",
       "      <td>1.08206e+12</td>\n",
       "      <td>5</td>\n",
       "      <td>0</td>\n",
       "    </tr>\n",
       "    <tr>\n",
       "      <th>15</th>\n",
       "      <td>logerror</td>\n",
       "      <td>0.325923</td>\n",
       "      <td>5</td>\n",
       "      <td>97.7374</td>\n",
       "    </tr>\n",
       "  </tbody>\n",
       "</table>\n",
       "</div>"
      ],
      "text/plain": [
       "                               0            1  2        3\n",
       "0                    bathroomcnt            5  5  97.7681\n",
       "1                     bedroomcnt            5  5  94.7289\n",
       "2              calculatedbathnbr            5  5    97.77\n",
       "3   calculatedfinishedsquarefeet         5175  5  98.7364\n",
       "4                    fullbathcnt            5  5  98.0202\n",
       "5              lotsizesquarefeet      15777.5  5  91.4366\n",
       "6         rawcensustractandblock  1.08206e+06  5        0\n",
       "7                 regionidcounty         5445  3      100\n",
       "8                        roomcnt           15  3      100\n",
       "9                      yearbuilt          145  5        0\n",
       "10    structuretaxvaluedollarcnt       741215  5  97.3136\n",
       "11             taxvaluedollarcnt  2.11831e+06  5  97.6684\n",
       "12         landtaxvaluedollarcnt  1.65981e+06  5  98.2398\n",
       "13                     taxamount      23504.3  5  97.4095\n",
       "14           censustractandblock  1.08206e+12  5        0\n",
       "15                      logerror     0.325923  5  97.7374"
      ]
     },
     "execution_count": 207,
     "metadata": {},
     "output_type": "execute_result"
    }
   ],
   "source": [
    "pd.DataFrame(data=(outlier_columns, value_list, value_index_list, perc_list)).transpose()"
   ]
  },
  {
   "cell_type": "code",
   "execution_count": 213,
   "metadata": {},
   "outputs": [
    {
     "ename": "SyntaxError",
     "evalue": "invalid syntax (<ipython-input-213-f0b1f4eff11a>, line 3)",
     "output_type": "error",
     "traceback": [
      "\u001b[0;36m  File \u001b[0;32m\"<ipython-input-213-f0b1f4eff11a>\"\u001b[0;36m, line \u001b[0;32m3\u001b[0m\n\u001b[0;31m    df.logerror.apply(lambda x: t if x > t)\u001b[0m\n\u001b[0m                                          ^\u001b[0m\n\u001b[0;31mSyntaxError\u001b[0m\u001b[0;31m:\u001b[0m invalid syntax\n"
     ]
    }
   ],
   "source": []
  },
  {
   "cell_type": "code",
   "execution_count": null,
   "metadata": {},
   "outputs": [],
   "source": [
    "def squeeze_data(df, column)\n",
    "    df['compare'] = threshold\n",
    "    if df.compare > \n",
    "    df['squeeze_'[column]] \n",
    "    threshold = iqr(df[x])*5\n",
    "        y = [n.replace(threshold) for n in x if n > threshold]\n",
    "    return "
   ]
  },
  {
   "cell_type": "code",
   "execution_count": 196,
   "metadata": {},
   "outputs": [
    {
     "data": {
      "text/plain": [
       "Text(0.5, 1.0, 'Problems with visualizing outliers in Historgram')"
      ]
     },
     "execution_count": 196,
     "metadata": {},
     "output_type": "execute_result"
    },
    {
     "data": {
      "image/png": "[encoded data removed]",
      "text/plain": [
       "<Figure size 432x288 with 1 Axes>"
      ]
     },
     "metadata": {
      "needs_background": "light"
     },
     "output_type": "display_data"
    }
   ],
   "source": [
    "df.taxvaluedollarcnt.dropna(inplace=True)\n",
    "\n",
    "plt.hist(zscore(df.taxvaluedollarcnt), bins=100)\n",
    "plt.title('Problems with visualizing outliers in Historgram')"
   ]
  },
  {
   "cell_type": "code",
   "execution_count": null,
   "metadata": {},
   "outputs": [],
   "source": [
    "sns.boxplot(zscore(df.taxvaluedollarcnt))\n",
    "plt.title('Problems with visualizing outliers in BarPlot')"
   ]
  },
  {
   "cell_type": "code",
   "execution_count": null,
   "metadata": {},
   "outputs": [],
   "source": []
  }
 ],
 "metadata": {
  "kernelspec": {
   "display_name": "Python 3",
   "language": "python",
   "name": "python3"
  },
  "language_info": {
   "codemirror_mode": {
    "name": "ipython",
    "version": 3
   },
   "file_extension": ".py",
   "mimetype": "text/x-python",
   "name": "python",
   "nbconvert_exporter": "python",
   "pygments_lexer": "ipython3",
   "version": "3.7.4"
  }
 },
 "nbformat": 4,
 "nbformat_minor": 2
}
