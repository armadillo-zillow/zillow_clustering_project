{
 "cells": [
  {
   "cell_type": "code",
   "execution_count": 1,
   "metadata": {},
   "outputs": [],
   "source": [
    "import pandas as pd\n",
    "\n",
    "from scipy.stats import iqr\n",
    "\n",
    "import wrangle_zillow\n"
   ]
  },
  {
   "cell_type": "code",
   "execution_count": 2,
   "metadata": {},
   "outputs": [
    {
     "name": "stderr",
     "output_type": "stream",
     "text": [
      "/usr/local/anaconda3/lib/python3.7/site-packages/IPython/core/interactiveshell.py:3249: DtypeWarning: Columns (64) have mixed types. Specify dtype option on import or set low_memory=False.\n",
      "  if (await self.run_code(code, result,  async_=asy)):\n"
     ]
    }
   ],
   "source": [
    "df = wrangle_zillow.get_zillow_data()"
   ]
  },
  {
   "cell_type": "code",
   "execution_count": 3,
   "metadata": {},
   "outputs": [],
   "source": [
    "def find_outlier_columns(df):\n",
    "    \"\"\"function takes in dataframe and returns list of column names:\n",
    "    columns that are floats\n",
    "    columns that are not categorical data values\n",
    "    \"\"\"\n",
    "    outlier_columns = [x for x in df.columns if df[x].dtype == 'float64']\n",
    "    outlier_columns.remove('longitude')\n",
    "    outlier_columns.remove('latitude')\n",
    "    for x in outlier_columns:\n",
    "        y = len(df[x].value_counts())\n",
    "        if y < 6:\n",
    "            outlier_columns.remove(x)\n",
    "        elif x.find('id') > 0:\n",
    "            outlier_columns.remove(x)\n",
    "    return outlier_columns"
   ]
  },
  {
   "cell_type": "code",
   "execution_count": 4,
   "metadata": {},
   "outputs": [],
   "source": [
    "outlier_columns = find_outlier_columns(df)"
   ]
  },
  {
   "cell_type": "code",
   "execution_count": 5,
   "metadata": {},
   "outputs": [
    {
     "data": {
      "text/plain": [
       "Index(['id', 'parcelid', 'airconditioningtypeid', 'architecturalstyletypeid',\n",
       "       'basementsqft', 'bathroomcnt', 'bedroomcnt', 'buildingclasstypeid',\n",
       "       'buildingqualitytypeid', 'calculatedbathnbr', 'decktypeid',\n",
       "       'finishedfloor1squarefeet', 'calculatedfinishedsquarefeet',\n",
       "       'finishedsquarefeet12', 'finishedsquarefeet13', 'finishedsquarefeet15',\n",
       "       'finishedsquarefeet50', 'finishedsquarefeet6', 'fips', 'fireplacecnt',\n",
       "       'fullbathcnt', 'garagecarcnt', 'garagetotalsqft', 'hashottuborspa',\n",
       "       'heatingorsystemtypeid', 'latitude', 'longitude', 'lotsizesquarefeet',\n",
       "       'poolcnt', 'poolsizesum', 'pooltypeid10', 'pooltypeid2', 'pooltypeid7',\n",
       "       'propertycountylandusecode', 'propertylandusetypeid',\n",
       "       'propertyzoningdesc', 'rawcensustractandblock', 'regionidcity',\n",
       "       'regionidcounty', 'regionidneighborhood', 'regionidzip', 'roomcnt',\n",
       "       'storytypeid', 'threequarterbathnbr', 'typeconstructiontypeid',\n",
       "       'unitcnt', 'yardbuildingsqft17', 'yardbuildingsqft26', 'yearbuilt',\n",
       "       'numberofstories', 'fireplaceflag', 'structuretaxvaluedollarcnt',\n",
       "       'taxvaluedollarcnt', 'assessmentyear', 'landtaxvaluedollarcnt',\n",
       "       'taxamount', 'taxdelinquencyflag', 'taxdelinquencyyear',\n",
       "       'censustractandblock', 'logerror', 'transactiondate',\n",
       "       'airconditioningdesc', 'architecturalstyledesc', 'buildingclassdesc',\n",
       "       'heatingorsystemdesc', 'propertylandusedesc', 'storydesc',\n",
       "       'typeconstructiondesc'],\n",
       "      dtype='object')"
      ]
     },
     "execution_count": 5,
     "metadata": {},
     "output_type": "execute_result"
    }
   ],
   "source": [
    "df.columns"
   ]
  },
  {
   "cell_type": "code",
   "execution_count": 6,
   "metadata": {},
   "outputs": [],
   "source": [
    "outlier_columns = ['bathroomcnt', 'bedroomcnt', 'calculatedbathnbr', 'taxvaluedollarcnt']"
   ]
  },
  {
   "cell_type": "code",
   "execution_count": 7,
   "metadata": {},
   "outputs": [],
   "source": [
    "def get_thresholds(df=df, columns=outlier_columns, k=3):\n",
    "    list_upper = []\n",
    "    list_lower = []\n",
    "    for col in outlier_columns:\n",
    "        lower_25 = (df[col].quantile(.25))\n",
    "        upper_75 = (df[col].quantile(.75))\n",
    "        IQR = iqr(df[col])*k\n",
    "        upper_threshold = upper_75 + IQR\n",
    "        if df[col].min() >= 0:\n",
    "            lower_threshold = max([lower_25 - IQR, 0])\n",
    "        else:\n",
    "            lower_threshold = lower_25 - IQR\n",
    "        list_upper.append(upper_threshold)\n",
    "        list_lower.append(lower_threshold)\n",
    "    return list_upper, list_lower"
   ]
  },
  {
   "cell_type": "code",
   "execution_count": 8,
   "metadata": {},
   "outputs": [],
   "source": [
    "list_upper, list_lower = get_thresholds(df=df, columns=outlier_columns, k=3)"
   ]
  },
  {
   "cell_type": "code",
   "execution_count": 9,
   "metadata": {},
   "outputs": [],
   "source": [
    "def replace_outliers(df=df, outliers_columns=outlier_columns, list_upper=list_upper, list_lower=list_lower):\n",
    "    for i in range(0, len(outlier_columns)):\n",
    "        col = outlier_columns[i]\n",
    "        rebuild_col = []\n",
    "        for x in df[col]:\n",
    "            if x > list_upper[i]:\n",
    "                rebuild_col.append(list_upper[i])\n",
    "            elif x < list_lower[i]:\n",
    "                rebuild_col.append(list_upper[i])\n",
    "            else:\n",
    "                rebuild_col.append(x)\n",
    "        df[col] = rebuild_col\n",
    "    return df  "
   ]
  },
  {
   "cell_type": "code",
   "execution_count": 10,
   "metadata": {},
   "outputs": [],
   "source": [
    "df = replace_outliers(df=df, outliers_columns=outlier_columns, list_upper=list_upper, list_lower=list_lower)"
   ]
  },
  {
   "cell_type": "code",
   "execution_count": 11,
   "metadata": {},
   "outputs": [
    {
     "data": {
      "text/plain": [
       "49061236.0"
      ]
     },
     "execution_count": 11,
     "metadata": {},
     "output_type": "execute_result"
    }
   ],
   "source": [
    "df.taxvaluedollarcnt.max()"
   ]
  },
  {
   "cell_type": "code",
   "execution_count": 12,
   "metadata": {},
   "outputs": [
    {
     "data": {
      "text/plain": [
       "400000.0    56\n",
       "600000.0    50\n",
       "350000.0    49\n",
       "450000.0    45\n",
       "455000.0    44\n",
       "            ..\n",
       "247786.0     1\n",
       "820528.0     1\n",
       "302891.0     1\n",
       "92106.0      1\n",
       "98304.0      1\n",
       "Name: taxvaluedollarcnt, Length: 50949, dtype: int64"
      ]
     },
     "execution_count": 12,
     "metadata": {},
     "output_type": "execute_result"
    }
   ],
   "source": [
    "df.taxvaluedollarcnt.value_counts()"
   ]
  },
  {
   "cell_type": "code",
   "execution_count": null,
   "metadata": {},
   "outputs": [],
   "source": [
    "outlier_columns"
   ]
  },
  {
   "cell_type": "code",
   "execution_count": null,
   "metadata": {},
   "outputs": [],
   "source": []
  }
 ],
 "metadata": {
  "kernelspec": {
   "display_name": "Python 3",
   "language": "python",
   "name": "python3"
  },
  "language_info": {
   "codemirror_mode": {
    "name": "ipython",
    "version": 3
   },
   "file_extension": ".py",
   "mimetype": "text/x-python",
   "name": "python",
   "nbconvert_exporter": "python",
   "pygments_lexer": "ipython3",
   "version": "3.7.4"
  }
 },
 "nbformat": 4,
 "nbformat_minor": 2
}
