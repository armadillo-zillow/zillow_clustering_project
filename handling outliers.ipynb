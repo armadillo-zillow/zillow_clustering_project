{
 "cells": [
  {
   "cell_type": "code",
   "execution_count": 15,
   "metadata": {},
   "outputs": [],
   "source": [
    "import pandas as pd\n",
    "\n",
    "from scipy.stats import iqr\n",
    "\n",
    "import wrangle_zillow\n"
   ]
  },
  {
   "cell_type": "code",
   "execution_count": 16,
   "metadata": {},
   "outputs": [],
   "source": [
    "df = wrangle_zillow.get_zillow_data()"
   ]
  },
  {
   "cell_type": "code",
   "execution_count": 17,
   "metadata": {},
   "outputs": [],
   "source": [
    "def find_outlier_columns(df):\n",
    "    \"\"\"function takes in dataframe and returns list of column names:\n",
    "    columns that are floats\n",
    "    columns that are not categorical data values\n",
    "    \"\"\"\n",
    "    outlier_columns = [x for x in df.columns if df[x].dtype == 'float64']\n",
    "    outlier_columns.remove('longitude')\n",
    "    outlier_columns.remove('latitude')\n",
    "    for x in outlier_columns:\n",
    "        y = len(df[x].value_counts())\n",
    "        if y < 6:\n",
    "            outlier_columns.remove(x)\n",
    "        elif x.find('id') > 0:\n",
    "            outlier_columns.remove(x)\n",
    "    return outlier_columns"
   ]
  },
  {
   "cell_type": "code",
   "execution_count": 18,
   "metadata": {},
   "outputs": [],
   "source": [
    "outlier_columns = find_outlier_columns(df)"
   ]
  },
  {
   "cell_type": "code",
   "execution_count": 19,
   "metadata": {},
   "outputs": [],
   "source": [
    "def get_thresholds(df=df, columns=outlier_columns, k=3):\n",
    "    list_upper = []\n",
    "    list_lower = []\n",
    "    for col in outlier_columns:\n",
    "        lower_25 = (df[col].quantile(.25))\n",
    "        upper_75 = (df[col].quantile(.75))\n",
    "        IQR = iqr(df[col])*k\n",
    "        upper_threshold = upper_75 + IQR\n",
    "        if df[col].min() >= 0:\n",
    "            lower_threshold = max([lower_25 - IQR, 0])\n",
    "        else:\n",
    "            lower_threshold = lower_25 - IQR\n",
    "        list_upper.append(upper_threshold)\n",
    "        list_lower.append(lower_threshold)\n",
    "    return list_upper, list_lower"
   ]
  },
  {
   "cell_type": "code",
   "execution_count": 20,
   "metadata": {},
   "outputs": [],
   "source": [
    "list_upper, list_lower = get_thresholds(df=df, columns=outlier_columns, k=3)"
   ]
  },
  {
   "cell_type": "code",
   "execution_count": 21,
   "metadata": {},
   "outputs": [],
   "source": [
    "def replace_outliers(df=df, outliers_columns=outlier_columns, list_upper=list_upper, list_lower=list_lower):\n",
    "    for i in range(0, len(outlier_columns)):\n",
    "        col = outlier_columns[i]\n",
    "        rebuild_col = []\n",
    "        for x in df[col]:\n",
    "            if x > list_upper[i]:\n",
    "                rebuild_col.append(list_upper[i])\n",
    "            elif x < list_lower[i]:\n",
    "                rebuild_col.append(list_upper[i])\n",
    "            elif x > list_lower[i] and x < list_upper[i]:\n",
    "                rebuild_col.append(x)\n",
    "            else:\n",
    "                rebuild_col.append(-50000000000)\n",
    "        df[col] = rebuild_col\n",
    "    return df  "
   ]
  },
  {
   "cell_type": "code",
   "execution_count": 27,
   "metadata": {},
   "outputs": [
    {
     "data": {
      "text/plain": [
       "35640.0"
      ]
     },
     "execution_count": 27,
     "metadata": {},
     "output_type": "execute_result"
    }
   ],
   "source": [
    "df.calculatedfinishedsquarefeet.max()"
   ]
  },
  {
   "cell_type": "code",
   "execution_count": 26,
   "metadata": {},
   "outputs": [
    {
     "data": {
      "text/plain": [
       "['architecturalstyletypeid',\n",
       " 'basementsqft',\n",
       " 'bathroomcnt',\n",
       " 'bedroomcnt',\n",
       " 'buildingqualitytypeid',\n",
       " 'calculatedbathnbr',\n",
       " 'finishedfloor1squarefeet',\n",
       " 'calculatedfinishedsquarefeet',\n",
       " 'finishedsquarefeet12',\n",
       " 'finishedsquarefeet13',\n",
       " 'finishedsquarefeet15',\n",
       " 'finishedsquarefeet50',\n",
       " 'finishedsquarefeet6',\n",
       " 'fireplacecnt',\n",
       " 'fullbathcnt',\n",
       " 'garagecarcnt',\n",
       " 'garagetotalsqft',\n",
       " 'heatingorsystemtypeid',\n",
       " 'lotsizesquarefeet',\n",
       " 'poolsizesum',\n",
       " 'pooltypeid2',\n",
       " 'propertylandusetypeid',\n",
       " 'rawcensustractandblock',\n",
       " 'regionidcounty',\n",
       " 'regionidzip',\n",
       " 'roomcnt',\n",
       " 'threequarterbathnbr',\n",
       " 'unitcnt',\n",
       " 'yardbuildingsqft17',\n",
       " 'yardbuildingsqft26',\n",
       " 'yearbuilt',\n",
       " 'fireplaceflag',\n",
       " 'structuretaxvaluedollarcnt',\n",
       " 'taxvaluedollarcnt',\n",
       " 'landtaxvaluedollarcnt',\n",
       " 'taxamount',\n",
       " 'taxdelinquencyyear',\n",
       " 'censustractandblock',\n",
       " 'logerror']"
      ]
     },
     "execution_count": 26,
     "metadata": {},
     "output_type": "execute_result"
    }
   ],
   "source": [
    "outlier_columns"
   ]
  },
  {
   "cell_type": "code",
   "execution_count": null,
   "metadata": {},
   "outputs": [],
   "source": []
  }
 ],
 "metadata": {
  "kernelspec": {
   "display_name": "Python 3",
   "language": "python",
   "name": "python3"
  },
  "language_info": {
   "codemirror_mode": {
    "name": "ipython",
    "version": 3
   },
   "file_extension": ".py",
   "mimetype": "text/x-python",
   "name": "python",
   "nbconvert_exporter": "python",
   "pygments_lexer": "ipython3",
   "version": "3.7.4"
  }
 },
 "nbformat": 4,
 "nbformat_minor": 2
}
